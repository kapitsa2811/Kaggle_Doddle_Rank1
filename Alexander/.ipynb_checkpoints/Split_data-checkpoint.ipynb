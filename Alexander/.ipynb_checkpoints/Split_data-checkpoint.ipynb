{
 "cells": [
  {
   "cell_type": "code",
   "execution_count": 1,
   "metadata": {},
   "outputs": [],
   "source": [
    "%matplotlib inline\n",
    "from IPython.core.interactiveshell import InteractiveShell\n",
    "InteractiveShell.ast_node_interactivity = \"all\"\n",
    "from sklearn.model_selection import train_test_split\n",
    "import ast\n",
    "import os\n",
    "import datetime as dt\n",
    "from tqdm import tqdm\n",
    "import pandas as pd\n",
    "import numpy as np\n",
    "import gc"
   ]
  },
  {
   "cell_type": "code",
   "execution_count": 2,
   "metadata": {},
   "outputs": [],
   "source": [
    "path = '/data/kaggle/doodle/'"
   ]
  },
  {
   "cell_type": "code",
   "execution_count": 3,
   "metadata": {},
   "outputs": [],
   "source": [
    "files = os.listdir(os.path.join(path, 'train_simplified'))"
   ]
  },
  {
   "cell_type": "code",
   "execution_count": 4,
   "metadata": {},
   "outputs": [],
   "source": [
    "data = []\n",
    "for file in files:\n",
    "    if '._' not in file:\n",
    "        data.append(file)"
   ]
  },
  {
   "cell_type": "code",
   "execution_count": 5,
   "metadata": {},
   "outputs": [],
   "source": [
    "sample_num = 25000\n",
    "valid_num = 80"
   ]
  },
  {
   "cell_type": "code",
   "execution_count": null,
   "metadata": {
    "scrolled": true
   },
   "outputs": [
    {
     "name": "stdout",
     "output_type": "stream",
     "text": [
      "door.csv  done!\n",
      "tiger.csv  done!\n",
      "umbrella.csv  done!\n",
      "square.csv  done!\n",
      "feather.csv  done!\n",
      "birthday cake.csv  done!\n",
      "potato.csv  done!\n",
      "fish.csv  done!\n",
      "mermaid.csv  done!\n",
      "speedboat.csv  done!\n",
      "leaf.csv  done!\n",
      "penguin.csv  done!\n",
      "bee.csv  done!\n",
      "broom.csv  done!\n",
      "cloud.csv  done!\n",
      "clock.csv  done!\n",
      "scorpion.csv  done!\n",
      "matches.csv  done!\n",
      "garden.csv  done!\n",
      "sink.csv  done!\n",
      "flower.csv  done!\n",
      "ceiling fan.csv  done!\n",
      "bicycle.csv  done!\n",
      "skull.csv  done!\n",
      "kangaroo.csv  done!\n",
      "guitar.csv  done!\n",
      "hockey puck.csv  done!\n",
      "sheep.csv  done!\n",
      "mug.csv  done!\n",
      "duck.csv  done!\n",
      "elephant.csv  done!\n"
     ]
    }
   ],
   "source": [
    "for file in data:\n",
    "    cat = os.path.join(path, 'train_simplified/') + file\n",
    "    df = pd.read_csv(cat, parse_dates=['timestamp'])\n",
    "    #X_valid for valid\n",
    "    X_train, X_valid, y_train, y_test = train_test_split(\n",
    "        df, df['countrycode'], test_size=valid_num, random_state=1)\n",
    "    #X_holdout for holdout\n",
    "    X_keep, X_holdout, y_train, y_test = train_test_split(\n",
    "        X_train, X_train['countrycode'], test_size=valid_num, random_state=2)\n",
    "    #X_sample for train\n",
    "    X_unuse, X_sample, y_train, y_test = train_test_split(\n",
    "    X_keep, X_keep['countrycode'], test_size=sample_num, random_state=2)\n",
    "    #outpur\n",
    "    X_keep.to_csv(path + 'train_unuse/' + file, index=False)\n",
    "    X_sample.to_csv(path + 'train_use/' + file, index=False)\n",
    "    X_valid.to_csv(path + 'valid/' + file, index=False)\n",
    "    X_holdout.to_csv(path + 'holdout/' + file, index=False)\n",
    "    print(file, ' done!')"
   ]
  },
  {
   "cell_type": "code",
   "execution_count": null,
   "metadata": {
    "collapsed": true
   },
   "outputs": [],
   "source": []
  }
 ],
 "metadata": {
  "kernelspec": {
   "display_name": "Python 3",
   "language": "python",
   "name": "python3"
  },
  "language_info": {
   "codemirror_mode": {
    "name": "ipython",
    "version": 3
   },
   "file_extension": ".py",
   "mimetype": "text/x-python",
   "name": "python",
   "nbconvert_exporter": "python",
   "pygments_lexer": "ipython3",
   "version": "3.6.6"
  }
 },
 "nbformat": 4,
 "nbformat_minor": 2
}
