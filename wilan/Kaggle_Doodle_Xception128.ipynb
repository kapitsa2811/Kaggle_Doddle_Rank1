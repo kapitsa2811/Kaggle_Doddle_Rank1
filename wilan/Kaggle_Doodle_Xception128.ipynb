{
 "cells": [
  {
   "cell_type": "code",
   "execution_count": 10,
   "metadata": {},
   "outputs": [],
   "source": [
    "%matplotlib inline\n",
    "from IPython.core.interactiveshell import InteractiveShell\n",
    "InteractiveShell.ast_node_interactivity = \"all\"\n",
    "import os\n",
    "import ast\n",
    "import datetime as dt\n",
    "import matplotlib.pyplot as plt\n",
    "import seaborn as sns\n",
    "import cv2\n",
    "import pandas as pd\n",
    "import numpy as np\n",
    "import tensorflow as tf\n",
    "\n",
    "import keras\n",
    "from keras.metrics import categorical_accuracy, top_k_categorical_accuracy, categorical_crossentropy\n",
    "from keras.models import Sequential\n",
    "from keras.callbacks import EarlyStopping, ReduceLROnPlateau, ModelCheckpoint, LearningRateScheduler\n",
    "from keras.optimizers import Adam\n",
    "from keras.applications import MobileNet\n",
    "from keras.applications import ResNet50\n",
    "from keras.applications import InceptionResNetV2\n",
    "from keras.applications.xception import Xception\n",
    "from keras.applications.xception import preprocess_input\n",
    "# from keras.applications.inception_resnet_v2 import preprocess_input\n",
    "# from keras.applications.resnet50 import preprocess_input\n",
    "# from keras.applications.mobilenet import preprocess_input\n",
    "from keras.utils.training_utils import multi_gpu_model\n",
    "from keras.preprocessing import image\n",
    "from keras.optimizers import SGD\n",
    "from keras.preprocessing.image import load_img\n",
    "from keras import Model\n",
    "from keras.layers.core import Lambda, RepeatVector, Reshape\n",
    "from keras.callbacks import EarlyStopping, ModelCheckpoint, ReduceLROnPlateau\n",
    "from keras.models import load_model\n",
    "from keras.utils.vis_utils import plot_model\n",
    "from keras.preprocessing.image import ImageDataGenerator\n",
    "from keras.layers.merge import concatenate\n",
    "from keras.layers import GlobalAveragePooling2D, Reshape, Dense, multiply, Permute, Input\n",
    "from keras.layers import UpSampling2D, Conv2D, Conv2DTranspose, Concatenate, MaxPooling2D\n",
    "from keras.layers import concatenate, Dropout, BatchNormalization, Lambda, Flatten, Activation\n",
    "from keras.losses import binary_crossentropy\n",
    "from keras import backend as K\n",
    "\n",
    "def step_decay_exp(epoch):\n",
    "    initial_lrate = 0.01\n",
    "    drop = 0.5 # drop by how much? 0.5 = half each time\n",
    "    epochs_drop = 10.0 # drop how many x epochs\n",
    "    lrate = initial_lrate * math.pow(drop, math.floor((1+epoch)/epochs_drop))\n",
    "    return lrate\n",
    "\n",
    "def cse_block(input, prefix, ratio=16):\n",
    "    ''' Create a squeeze-excite block\n",
    "    Args:\n",
    "        input: input tensor\n",
    "        filters: number of output filters\n",
    "        k: width factor\n",
    "    Returns: a keras tensor\n",
    "    '''\n",
    "    init = input\n",
    "    channel_axis = 1 if K.image_data_format() == \"channels_first\" else -1\n",
    "    filters = init._keras_shape[channel_axis]\n",
    "    se_shape = (1, 1, filters)\n",
    "\n",
    "    se = GlobalAveragePooling2D(name = prefix + \"_cse_gap1\")(init)\n",
    "    se = Reshape(se_shape, name = prefix + \"_cse_reshape1\")(se)\n",
    "    se = Dense(filters // ratio, activation='relu', kernel_initializer='he_normal', use_bias=False,\n",
    "              name = prefix + \"_cse_fc1\")(se)\n",
    "    se = Dense(filters, activation='sigmoid', kernel_initializer='he_normal', use_bias=False,\n",
    "              name = prefix + \"_cse_fc2\")(se)\n",
    "\n",
    "    if K.image_data_format() == 'channels_first':\n",
    "        se = Permute((3, 1, 2))(se)\n",
    "\n",
    "    x = multiply([init, se], name = prefix + \"_cse_mul1\")\n",
    "    return x\n",
    "\n",
    "def sse_block(input, prefix):\n",
    "    init = input\n",
    "    conv = Conv2D(1, (1,1), padding = 'same', kernel_initializer = 'he_normal',\n",
    "                  activation = 'sigmoid', strides = (1,1), name = prefix + \"_sse_conv\")(input)\n",
    "    conv = Multiply(name = prefix + \"_sse_mul1\")([input, conv])\n",
    "    return conv\n",
    "\n",
    "def csse_block(x, prefix):\n",
    "    cse = cse_block(x, prefix)\n",
    "    sse = sse_block(x, prefix)\n",
    "    out = Add(name = prefix + \"_csse_mul\")([cse, sse])\n",
    "    return out\n",
    "\n",
    "### Kaggle Code\n",
    "def apk(actual, predicted, k=3):\n",
    "    \"\"\"\n",
    "    Source: https://github.com/benhamner/Metrics/blob/master/Python/ml_metrics/average_precision.py\n",
    "    \"\"\"\n",
    "    if len(predicted) > k:\n",
    "        predicted = predicted[:k]\n",
    "\n",
    "    score = 0.0\n",
    "    num_hits = 0.0\n",
    "\n",
    "    for i, p in enumerate(predicted):\n",
    "        if p in actual and p not in predicted[:i]:\n",
    "            num_hits += 1.0\n",
    "            score += num_hits / (i + 1.0)\n",
    "\n",
    "    if not actual:\n",
    "        return 0.0\n",
    "\n",
    "    return score / min(len(actual), k)\n",
    "\n",
    "def mapk(actual, predicted, k=3):\n",
    "    \"\"\"\n",
    "    Source: https://github.com/benhamner/Metrics/blob/master/Python/ml_metrics/average_precision.py\n",
    "    \"\"\"\n",
    "    return np.mean([apk(a, p, k) for a, p in zip(actual, predicted)])\n",
    "\n",
    "def preds2catids(predictions, k=3):\n",
    "    return pd.DataFrame(np.argsort(-predictions, axis=1)[:, :k], columns=[chr(ord('a')+x) for x in range(k)])\n",
    "\n",
    "def top_3_accuracy(y_true, y_pred):\n",
    "    return top_k_categorical_accuracy(y_true, y_pred, k=3)\n",
    "\n",
    "def f2cat(filename: str) -> str:\n",
    "    return filename.split('.')[0]\n",
    "\n",
    "def list_all_categories():\n",
    "    files = os.listdir(os.path.join(INPUT_DIR, 'train_simplified'))\n",
    "    return sorted([f2cat(f) for f in files], key=str.lower)\n",
    "\n",
    "def multi_gpu_model(model, gpus):\n",
    "    if gpus == 1:\n",
    "        return model\n",
    "    if isinstance(gpus, (list, tuple)):\n",
    "        num_gpus = len(gpus)\n",
    "        target_gpu_ids = gpus\n",
    "    else:\n",
    "        num_gpus = gpus\n",
    "        target_gpu_ids = range(num_gpus)\n",
    "\n",
    "    def get_slice(data, i, parts):\n",
    "        shape = tf.shape(data)\n",
    "        batch_size = shape[:1]\n",
    "        input_shape = shape[1:]\n",
    "        step = batch_size // parts\n",
    "        if i == num_gpus - 1:\n",
    "            size = batch_size - step * i\n",
    "        else:\n",
    "            size = step\n",
    "        size = tf.concat([size, input_shape], axis=0)\n",
    "        stride = tf.concat([step, input_shape * 0], axis=0)\n",
    "        start = stride * i\n",
    "        return tf.slice(data, start, size)\n",
    "\n",
    "    all_outputs = []\n",
    "    for i in range(len(model.outputs)):\n",
    "        all_outputs.append([])\n",
    "\n",
    "    # Place a copy of the model on each GPU,\n",
    "    # each getting a slice of the inputs.\n",
    "    for i, gpu_id in enumerate(target_gpu_ids):\n",
    "        with tf.device('/gpu:%d' % gpu_id):\n",
    "            with tf.name_scope('replica_%d' % gpu_id):\n",
    "                inputs = []\n",
    "                # Retrieve a slice of the input.\n",
    "                for x in model.inputs:\n",
    "                    input_shape = tuple(x.get_shape().as_list())[1:]\n",
    "                    slice_i = Lambda(get_slice,output_shape=input_shape,arguments={'i': i, 'parts': num_gpus})(x)\n",
    "                    inputs.append(slice_i)\n",
    "\n",
    "                # Apply model on slice\n",
    "                # (creating a model replica on the target device).\n",
    "                outputs = model(inputs)\n",
    "                if not isinstance(outputs, list):\n",
    "                    outputs = [outputs]\n",
    "\n",
    "                # Save the outputs for merging back together later.\n",
    "                for o in range(len(outputs)):\n",
    "                    all_outputs[o].append(outputs[o])\n",
    "\n",
    "    # Merge outputs on CPU.\n",
    "    with tf.device('/cpu:0'):\n",
    "        merged = []\n",
    "        for name, outputs in zip(model.output_names, all_outputs):\n",
    "            merged.append(concatenate(outputs, axis=0, name=name))\n",
    "        return Model(model.inputs, merged)\n",
    "\n",
    "### Image Generator\n",
    "def draw_cv2(raw_strokes, size=256, lw=6, time_color=True):\n",
    "    img = np.zeros((BASE_SIZE, BASE_SIZE), np.uint8)\n",
    "    for t, stroke in enumerate(raw_strokes):\n",
    "        for i in range(len(stroke[0]) - 1):\n",
    "            # can try to do exponential smoothing / decay\n",
    "            # how about embedding different elements/colours to different channels\n",
    "            # one channel has raw 0/255\n",
    "            # one channel has decay 0->255\n",
    "            # one channel has decay 0->255 but with different line width\n",
    "            color = 255 - min(t, 15) * 13 if time_color else 255\n",
    "            _ = cv2.line(img, (stroke[0][i], stroke[1][i]),\n",
    "                         (stroke[0][i + 1], stroke[1][i + 1]), color, lw)\n",
    "    if size != BASE_SIZE:\n",
    "        return cv2.resize(img, (size, size))\n",
    "    else:\n",
    "        return img\n",
    "\n",
    "def image_generator_xd(size, batchsize, ks, lw=6, time_color=True):\n",
    "    while True:\n",
    "        for k in np.random.permutation(ks):\n",
    "#             print('Chosen {}'.format(k))\n",
    "            filename = os.path.join(DP_DIR, 'train_k{}.csv.gz'.format(k))\n",
    "            for df in pd.read_csv(filename, chunksize=batchsize):\n",
    "                df['drawing'] = df['drawing'].apply(ast.literal_eval)\n",
    "                x = np.zeros((len(df), size, size, 3))\n",
    "                for i, raw_strokes in enumerate(df.drawing.values):\n",
    "                    x[i, :, :, 0] = draw_cv2(raw_strokes, size=size, lw=lw,\n",
    "                                             time_color=time_color)\n",
    "                for i, raw_strokes in enumerate(df.drawing.values):\n",
    "                    x[i, :, :, 1] = draw_cv2(raw_strokes, size=size, lw=lw,\n",
    "                                             time_color=False)\n",
    "                for i, raw_strokes in enumerate(df.drawing.values):\n",
    "                    x[i, :, :, 2] = draw_cv2(raw_strokes, size=size, lw=4,\n",
    "                                             time_color=True)\n",
    "#                 x = np.repeat(x, 3, axis = 3)\n",
    "                x = preprocess_input(x).astype(np.float32)\n",
    "                y = keras.utils.to_categorical(df.y, num_classes=NCATS)\n",
    "                yield x, y\n",
    "\n",
    "def df_to_image_array_xd(df, size, lw=6, time_color=True):\n",
    "    df['drawing'] = df['drawing'].apply(ast.literal_eval)\n",
    "    x = np.zeros((len(df), size, size, 3))\n",
    "    for i, raw_strokes in enumerate(df.drawing.values):\n",
    "        x[i, :, :, 0] = draw_cv2(raw_strokes, size=size, lw=lw, time_color=time_color)\n",
    "    for i, raw_strokes in enumerate(df.drawing.values):\n",
    "        x[i, :, :, 1] = draw_cv2(raw_strokes, size=size, lw=lw, time_color=False)\n",
    "    for i, raw_strokes in enumerate(df.drawing.values):\n",
    "        x[i, :, :, 2] = draw_cv2(raw_strokes, size=size, lw=4, time_color=True)\n",
    "    x = preprocess_input(x).astype(np.float32)\n",
    "    return x"
   ]
  },
  {
   "cell_type": "code",
   "execution_count": 2,
   "metadata": {},
   "outputs": [],
   "source": [
    "DP_DIR = '/home/wilan/Kaggle/shuffled_train_20/'\n",
    "INPUT_DIR = '/home/wilan/Kaggle/'\n",
    "\n",
    "BASE_SIZE = 256\n",
    "NCSVS = 20\n",
    "NCATS = 340\n",
    "np.random.seed(seed=123)\n",
    "tf.set_random_seed(seed=123)\n",
    "size = 128"
   ]
  },
  {
   "cell_type": "code",
   "execution_count": 21,
   "metadata": {},
   "outputs": [
    {
     "name": "stdout",
     "output_type": "stream",
     "text": [
      "__________________________________________________________________________________________________\n",
      "Layer (type)                    Output Shape         Param #     Connected to                     \n",
      "==================================================================================================\n",
      "input_3 (InputLayer)            (None, 128, 128, 3)  0                                            \n",
      "__________________________________________________________________________________________________\n",
      "block1_conv1 (Conv2D)           (None, 63, 63, 32)   864         input_3[0][0]                    \n",
      "__________________________________________________________________________________________________\n",
      "block1_conv1_bn (BatchNormaliza (None, 63, 63, 32)   128         block1_conv1[0][0]               \n",
      "__________________________________________________________________________________________________\n",
      "block1_conv1_act (Activation)   (None, 63, 63, 32)   0           block1_conv1_bn[0][0]            \n",
      "__________________________________________________________________________________________________\n",
      "block1_conv2 (Conv2D)           (None, 61, 61, 64)   18432       block1_conv1_act[0][0]           \n",
      "__________________________________________________________________________________________________\n",
      "block1_conv2_bn (BatchNormaliza (None, 61, 61, 64)   256         block1_conv2[0][0]               \n",
      "__________________________________________________________________________________________________\n",
      "block1_conv2_act (Activation)   (None, 61, 61, 64)   0           block1_conv2_bn[0][0]            \n",
      "__________________________________________________________________________________________________\n",
      "block2_sepconv1 (SeparableConv2 (None, 61, 61, 128)  8768        block1_conv2_act[0][0]           \n",
      "__________________________________________________________________________________________________\n",
      "block2_sepconv1_bn (BatchNormal (None, 61, 61, 128)  512         block2_sepconv1[0][0]            \n",
      "__________________________________________________________________________________________________\n",
      "block2_sepconv2_act (Activation (None, 61, 61, 128)  0           block2_sepconv1_bn[0][0]         \n",
      "__________________________________________________________________________________________________\n",
      "block2_sepconv2 (SeparableConv2 (None, 61, 61, 128)  17536       block2_sepconv2_act[0][0]        \n",
      "__________________________________________________________________________________________________\n",
      "block2_sepconv2_bn (BatchNormal (None, 61, 61, 128)  512         block2_sepconv2[0][0]            \n",
      "__________________________________________________________________________________________________\n",
      "conv2d_9 (Conv2D)               (None, 31, 31, 128)  8192        block1_conv2_act[0][0]           \n",
      "__________________________________________________________________________________________________\n",
      "block2_pool (MaxPooling2D)      (None, 31, 31, 128)  0           block2_sepconv2_bn[0][0]         \n",
      "__________________________________________________________________________________________________\n",
      "batch_normalization_9 (BatchNor (None, 31, 31, 128)  512         conv2d_9[0][0]                   \n",
      "__________________________________________________________________________________________________\n",
      "add_25 (Add)                    (None, 31, 31, 128)  0           block2_pool[0][0]                \n",
      "                                                                 batch_normalization_9[0][0]      \n",
      "__________________________________________________________________________________________________\n",
      "block3_sepconv1_act (Activation (None, 31, 31, 128)  0           add_25[0][0]                     \n",
      "__________________________________________________________________________________________________\n",
      "block3_sepconv1 (SeparableConv2 (None, 31, 31, 256)  33920       block3_sepconv1_act[0][0]        \n",
      "__________________________________________________________________________________________________\n",
      "block3_sepconv1_bn (BatchNormal (None, 31, 31, 256)  1024        block3_sepconv1[0][0]            \n",
      "__________________________________________________________________________________________________\n",
      "block3_sepconv2_act (Activation (None, 31, 31, 256)  0           block3_sepconv1_bn[0][0]         \n",
      "__________________________________________________________________________________________________\n",
      "block3_sepconv2 (SeparableConv2 (None, 31, 31, 256)  67840       block3_sepconv2_act[0][0]        \n",
      "__________________________________________________________________________________________________\n",
      "block3_sepconv2_bn (BatchNormal (None, 31, 31, 256)  1024        block3_sepconv2[0][0]            \n",
      "__________________________________________________________________________________________________\n",
      "conv2d_10 (Conv2D)              (None, 16, 16, 256)  32768       add_25[0][0]                     \n",
      "__________________________________________________________________________________________________\n",
      "block3_pool (MaxPooling2D)      (None, 16, 16, 256)  0           block3_sepconv2_bn[0][0]         \n",
      "__________________________________________________________________________________________________\n",
      "batch_normalization_10 (BatchNo (None, 16, 16, 256)  1024        conv2d_10[0][0]                  \n",
      "__________________________________________________________________________________________________\n",
      "add_26 (Add)                    (None, 16, 16, 256)  0           block3_pool[0][0]                \n",
      "                                                                 batch_normalization_10[0][0]     \n",
      "__________________________________________________________________________________________________\n",
      "block4_sepconv1_act (Activation (None, 16, 16, 256)  0           add_26[0][0]                     \n",
      "__________________________________________________________________________________________________\n",
      "block4_sepconv1 (SeparableConv2 (None, 16, 16, 728)  188672      block4_sepconv1_act[0][0]        \n",
      "__________________________________________________________________________________________________\n",
      "block4_sepconv1_bn (BatchNormal (None, 16, 16, 728)  2912        block4_sepconv1[0][0]            \n",
      "__________________________________________________________________________________________________\n",
      "block4_sepconv2_act (Activation (None, 16, 16, 728)  0           block4_sepconv1_bn[0][0]         \n",
      "__________________________________________________________________________________________________\n",
      "block4_sepconv2 (SeparableConv2 (None, 16, 16, 728)  536536      block4_sepconv2_act[0][0]        \n",
      "__________________________________________________________________________________________________\n",
      "block4_sepconv2_bn (BatchNormal (None, 16, 16, 728)  2912        block4_sepconv2[0][0]            \n",
      "__________________________________________________________________________________________________\n",
      "conv2d_11 (Conv2D)              (None, 8, 8, 728)    186368      add_26[0][0]                     \n",
      "__________________________________________________________________________________________________\n",
      "block4_pool (MaxPooling2D)      (None, 8, 8, 728)    0           block4_sepconv2_bn[0][0]         \n",
      "__________________________________________________________________________________________________\n",
      "batch_normalization_11 (BatchNo (None, 8, 8, 728)    2912        conv2d_11[0][0]                  \n",
      "__________________________________________________________________________________________________\n",
      "add_27 (Add)                    (None, 8, 8, 728)    0           block4_pool[0][0]                \n",
      "                                                                 batch_normalization_11[0][0]     \n",
      "__________________________________________________________________________________________________\n",
      "block5_sepconv1_act (Activation (None, 8, 8, 728)    0           add_27[0][0]                     \n",
      "__________________________________________________________________________________________________\n",
      "block5_sepconv1 (SeparableConv2 (None, 8, 8, 728)    536536      block5_sepconv1_act[0][0]        \n",
      "__________________________________________________________________________________________________\n",
      "block5_sepconv1_bn (BatchNormal (None, 8, 8, 728)    2912        block5_sepconv1[0][0]            \n",
      "__________________________________________________________________________________________________\n",
      "block5_sepconv2_act (Activation (None, 8, 8, 728)    0           block5_sepconv1_bn[0][0]         \n",
      "__________________________________________________________________________________________________\n",
      "block5_sepconv2 (SeparableConv2 (None, 8, 8, 728)    536536      block5_sepconv2_act[0][0]        \n",
      "__________________________________________________________________________________________________\n",
      "block5_sepconv2_bn (BatchNormal (None, 8, 8, 728)    2912        block5_sepconv2[0][0]            \n",
      "__________________________________________________________________________________________________\n",
      "block5_sepconv3_act (Activation (None, 8, 8, 728)    0           block5_sepconv2_bn[0][0]         \n",
      "__________________________________________________________________________________________________\n",
      "block5_sepconv3 (SeparableConv2 (None, 8, 8, 728)    536536      block5_sepconv3_act[0][0]        \n",
      "__________________________________________________________________________________________________\n",
      "block5_sepconv3_bn (BatchNormal (None, 8, 8, 728)    2912        block5_sepconv3[0][0]            \n",
      "__________________________________________________________________________________________________\n",
      "add_28 (Add)                    (None, 8, 8, 728)    0           block5_sepconv3_bn[0][0]         \n",
      "                                                                 add_27[0][0]                     \n",
      "__________________________________________________________________________________________________\n",
      "block6_sepconv1_act (Activation (None, 8, 8, 728)    0           add_28[0][0]                     \n",
      "__________________________________________________________________________________________________\n",
      "block6_sepconv1 (SeparableConv2 (None, 8, 8, 728)    536536      block6_sepconv1_act[0][0]        \n",
      "__________________________________________________________________________________________________\n",
      "block6_sepconv1_bn (BatchNormal (None, 8, 8, 728)    2912        block6_sepconv1[0][0]            \n",
      "__________________________________________________________________________________________________\n",
      "block6_sepconv2_act (Activation (None, 8, 8, 728)    0           block6_sepconv1_bn[0][0]         \n",
      "__________________________________________________________________________________________________\n",
      "block6_sepconv2 (SeparableConv2 (None, 8, 8, 728)    536536      block6_sepconv2_act[0][0]        \n",
      "__________________________________________________________________________________________________\n",
      "block6_sepconv2_bn (BatchNormal (None, 8, 8, 728)    2912        block6_sepconv2[0][0]            \n",
      "__________________________________________________________________________________________________\n",
      "block6_sepconv3_act (Activation (None, 8, 8, 728)    0           block6_sepconv2_bn[0][0]         \n",
      "__________________________________________________________________________________________________\n",
      "block6_sepconv3 (SeparableConv2 (None, 8, 8, 728)    536536      block6_sepconv3_act[0][0]        \n",
      "__________________________________________________________________________________________________\n",
      "block6_sepconv3_bn (BatchNormal (None, 8, 8, 728)    2912        block6_sepconv3[0][0]            \n",
      "__________________________________________________________________________________________________\n",
      "add_29 (Add)                    (None, 8, 8, 728)    0           block6_sepconv3_bn[0][0]         \n",
      "                                                                 add_28[0][0]                     \n",
      "__________________________________________________________________________________________________\n",
      "block7_sepconv1_act (Activation (None, 8, 8, 728)    0           add_29[0][0]                     \n",
      "__________________________________________________________________________________________________\n",
      "block7_sepconv1 (SeparableConv2 (None, 8, 8, 728)    536536      block7_sepconv1_act[0][0]        \n",
      "__________________________________________________________________________________________________\n",
      "block7_sepconv1_bn (BatchNormal (None, 8, 8, 728)    2912        block7_sepconv1[0][0]            \n",
      "__________________________________________________________________________________________________\n",
      "block7_sepconv2_act (Activation (None, 8, 8, 728)    0           block7_sepconv1_bn[0][0]         \n",
      "__________________________________________________________________________________________________\n",
      "block7_sepconv2 (SeparableConv2 (None, 8, 8, 728)    536536      block7_sepconv2_act[0][0]        \n",
      "__________________________________________________________________________________________________\n",
      "block7_sepconv2_bn (BatchNormal (None, 8, 8, 728)    2912        block7_sepconv2[0][0]            \n",
      "__________________________________________________________________________________________________\n",
      "block7_sepconv3_act (Activation (None, 8, 8, 728)    0           block7_sepconv2_bn[0][0]         \n",
      "__________________________________________________________________________________________________\n",
      "block7_sepconv3 (SeparableConv2 (None, 8, 8, 728)    536536      block7_sepconv3_act[0][0]        \n",
      "__________________________________________________________________________________________________\n",
      "block7_sepconv3_bn (BatchNormal (None, 8, 8, 728)    2912        block7_sepconv3[0][0]            \n",
      "__________________________________________________________________________________________________\n",
      "add_30 (Add)                    (None, 8, 8, 728)    0           block7_sepconv3_bn[0][0]         \n",
      "                                                                 add_29[0][0]                     \n",
      "__________________________________________________________________________________________________\n",
      "block8_sepconv1_act (Activation (None, 8, 8, 728)    0           add_30[0][0]                     \n",
      "__________________________________________________________________________________________________\n",
      "block8_sepconv1 (SeparableConv2 (None, 8, 8, 728)    536536      block8_sepconv1_act[0][0]        \n",
      "__________________________________________________________________________________________________\n",
      "block8_sepconv1_bn (BatchNormal (None, 8, 8, 728)    2912        block8_sepconv1[0][0]            \n",
      "__________________________________________________________________________________________________\n",
      "block8_sepconv2_act (Activation (None, 8, 8, 728)    0           block8_sepconv1_bn[0][0]         \n",
      "__________________________________________________________________________________________________\n",
      "block8_sepconv2 (SeparableConv2 (None, 8, 8, 728)    536536      block8_sepconv2_act[0][0]        \n",
      "__________________________________________________________________________________________________\n",
      "block8_sepconv2_bn (BatchNormal (None, 8, 8, 728)    2912        block8_sepconv2[0][0]            \n",
      "__________________________________________________________________________________________________\n",
      "block8_sepconv3_act (Activation (None, 8, 8, 728)    0           block8_sepconv2_bn[0][0]         \n",
      "__________________________________________________________________________________________________\n",
      "block8_sepconv3 (SeparableConv2 (None, 8, 8, 728)    536536      block8_sepconv3_act[0][0]        \n",
      "__________________________________________________________________________________________________\n",
      "block8_sepconv3_bn (BatchNormal (None, 8, 8, 728)    2912        block8_sepconv3[0][0]            \n",
      "__________________________________________________________________________________________________\n",
      "add_31 (Add)                    (None, 8, 8, 728)    0           block8_sepconv3_bn[0][0]         \n",
      "                                                                 add_30[0][0]                     \n",
      "__________________________________________________________________________________________________\n",
      "block9_sepconv1_act (Activation (None, 8, 8, 728)    0           add_31[0][0]                     \n",
      "__________________________________________________________________________________________________\n",
      "block9_sepconv1 (SeparableConv2 (None, 8, 8, 728)    536536      block9_sepconv1_act[0][0]        \n",
      "__________________________________________________________________________________________________\n",
      "block9_sepconv1_bn (BatchNormal (None, 8, 8, 728)    2912        block9_sepconv1[0][0]            \n",
      "__________________________________________________________________________________________________\n",
      "block9_sepconv2_act (Activation (None, 8, 8, 728)    0           block9_sepconv1_bn[0][0]         \n",
      "__________________________________________________________________________________________________\n",
      "block9_sepconv2 (SeparableConv2 (None, 8, 8, 728)    536536      block9_sepconv2_act[0][0]        \n",
      "__________________________________________________________________________________________________\n",
      "block9_sepconv2_bn (BatchNormal (None, 8, 8, 728)    2912        block9_sepconv2[0][0]            \n",
      "__________________________________________________________________________________________________\n",
      "block9_sepconv3_act (Activation (None, 8, 8, 728)    0           block9_sepconv2_bn[0][0]         \n",
      "__________________________________________________________________________________________________\n",
      "block9_sepconv3 (SeparableConv2 (None, 8, 8, 728)    536536      block9_sepconv3_act[0][0]        \n",
      "__________________________________________________________________________________________________\n",
      "block9_sepconv3_bn (BatchNormal (None, 8, 8, 728)    2912        block9_sepconv3[0][0]            \n",
      "__________________________________________________________________________________________________\n",
      "add_32 (Add)                    (None, 8, 8, 728)    0           block9_sepconv3_bn[0][0]         \n",
      "                                                                 add_31[0][0]                     \n",
      "__________________________________________________________________________________________________\n",
      "block10_sepconv1_act (Activatio (None, 8, 8, 728)    0           add_32[0][0]                     \n",
      "__________________________________________________________________________________________________\n",
      "block10_sepconv1 (SeparableConv (None, 8, 8, 728)    536536      block10_sepconv1_act[0][0]       \n",
      "__________________________________________________________________________________________________\n",
      "block10_sepconv1_bn (BatchNorma (None, 8, 8, 728)    2912        block10_sepconv1[0][0]           \n",
      "__________________________________________________________________________________________________\n",
      "block10_sepconv2_act (Activatio (None, 8, 8, 728)    0           block10_sepconv1_bn[0][0]        \n",
      "__________________________________________________________________________________________________\n",
      "block10_sepconv2 (SeparableConv (None, 8, 8, 728)    536536      block10_sepconv2_act[0][0]       \n",
      "__________________________________________________________________________________________________\n",
      "block10_sepconv2_bn (BatchNorma (None, 8, 8, 728)    2912        block10_sepconv2[0][0]           \n",
      "__________________________________________________________________________________________________\n",
      "block10_sepconv3_act (Activatio (None, 8, 8, 728)    0           block10_sepconv2_bn[0][0]        \n",
      "__________________________________________________________________________________________________\n",
      "block10_sepconv3 (SeparableConv (None, 8, 8, 728)    536536      block10_sepconv3_act[0][0]       \n",
      "__________________________________________________________________________________________________\n",
      "block10_sepconv3_bn (BatchNorma (None, 8, 8, 728)    2912        block10_sepconv3[0][0]           \n",
      "__________________________________________________________________________________________________\n",
      "add_33 (Add)                    (None, 8, 8, 728)    0           block10_sepconv3_bn[0][0]        \n",
      "                                                                 add_32[0][0]                     \n",
      "__________________________________________________________________________________________________\n",
      "block11_sepconv1_act (Activatio (None, 8, 8, 728)    0           add_33[0][0]                     \n",
      "__________________________________________________________________________________________________\n",
      "block11_sepconv1 (SeparableConv (None, 8, 8, 728)    536536      block11_sepconv1_act[0][0]       \n",
      "__________________________________________________________________________________________________\n",
      "block11_sepconv1_bn (BatchNorma (None, 8, 8, 728)    2912        block11_sepconv1[0][0]           \n",
      "__________________________________________________________________________________________________\n",
      "block11_sepconv2_act (Activatio (None, 8, 8, 728)    0           block11_sepconv1_bn[0][0]        \n",
      "__________________________________________________________________________________________________\n",
      "block11_sepconv2 (SeparableConv (None, 8, 8, 728)    536536      block11_sepconv2_act[0][0]       \n",
      "__________________________________________________________________________________________________\n",
      "block11_sepconv2_bn (BatchNorma (None, 8, 8, 728)    2912        block11_sepconv2[0][0]           \n",
      "__________________________________________________________________________________________________\n",
      "block11_sepconv3_act (Activatio (None, 8, 8, 728)    0           block11_sepconv2_bn[0][0]        \n",
      "__________________________________________________________________________________________________\n",
      "block11_sepconv3 (SeparableConv (None, 8, 8, 728)    536536      block11_sepconv3_act[0][0]       \n",
      "__________________________________________________________________________________________________\n",
      "block11_sepconv3_bn (BatchNorma (None, 8, 8, 728)    2912        block11_sepconv3[0][0]           \n",
      "__________________________________________________________________________________________________\n",
      "add_34 (Add)                    (None, 8, 8, 728)    0           block11_sepconv3_bn[0][0]        \n",
      "                                                                 add_33[0][0]                     \n",
      "__________________________________________________________________________________________________\n",
      "block12_sepconv1_act (Activatio (None, 8, 8, 728)    0           add_34[0][0]                     \n",
      "__________________________________________________________________________________________________\n",
      "block12_sepconv1 (SeparableConv (None, 8, 8, 728)    536536      block12_sepconv1_act[0][0]       \n",
      "__________________________________________________________________________________________________\n",
      "block12_sepconv1_bn (BatchNorma (None, 8, 8, 728)    2912        block12_sepconv1[0][0]           \n",
      "__________________________________________________________________________________________________\n",
      "block12_sepconv2_act (Activatio (None, 8, 8, 728)    0           block12_sepconv1_bn[0][0]        \n",
      "__________________________________________________________________________________________________\n",
      "block12_sepconv2 (SeparableConv (None, 8, 8, 728)    536536      block12_sepconv2_act[0][0]       \n",
      "__________________________________________________________________________________________________\n",
      "block12_sepconv2_bn (BatchNorma (None, 8, 8, 728)    2912        block12_sepconv2[0][0]           \n",
      "__________________________________________________________________________________________________\n",
      "block12_sepconv3_act (Activatio (None, 8, 8, 728)    0           block12_sepconv2_bn[0][0]        \n",
      "__________________________________________________________________________________________________\n",
      "block12_sepconv3 (SeparableConv (None, 8, 8, 728)    536536      block12_sepconv3_act[0][0]       \n",
      "__________________________________________________________________________________________________\n",
      "block12_sepconv3_bn (BatchNorma (None, 8, 8, 728)    2912        block12_sepconv3[0][0]           \n",
      "__________________________________________________________________________________________________\n",
      "add_35 (Add)                    (None, 8, 8, 728)    0           block12_sepconv3_bn[0][0]        \n",
      "                                                                 add_34[0][0]                     \n",
      "__________________________________________________________________________________________________\n",
      "block13_sepconv1_act (Activatio (None, 8, 8, 728)    0           add_35[0][0]                     \n",
      "__________________________________________________________________________________________________\n",
      "block13_sepconv1 (SeparableConv (None, 8, 8, 728)    536536      block13_sepconv1_act[0][0]       \n",
      "__________________________________________________________________________________________________\n",
      "block13_sepconv1_bn (BatchNorma (None, 8, 8, 728)    2912        block13_sepconv1[0][0]           \n",
      "__________________________________________________________________________________________________\n",
      "block13_sepconv2_act (Activatio (None, 8, 8, 728)    0           block13_sepconv1_bn[0][0]        \n",
      "__________________________________________________________________________________________________\n",
      "block13_sepconv2 (SeparableConv (None, 8, 8, 1024)   752024      block13_sepconv2_act[0][0]       \n",
      "__________________________________________________________________________________________________\n",
      "block13_sepconv2_bn (BatchNorma (None, 8, 8, 1024)   4096        block13_sepconv2[0][0]           \n",
      "__________________________________________________________________________________________________\n",
      "conv2d_12 (Conv2D)              (None, 4, 4, 1024)   745472      add_35[0][0]                     \n",
      "__________________________________________________________________________________________________\n",
      "block13_pool (MaxPooling2D)     (None, 4, 4, 1024)   0           block13_sepconv2_bn[0][0]        \n",
      "__________________________________________________________________________________________________\n",
      "batch_normalization_12 (BatchNo (None, 4, 4, 1024)   4096        conv2d_12[0][0]                  \n",
      "__________________________________________________________________________________________________\n",
      "add_36 (Add)                    (None, 4, 4, 1024)   0           block13_pool[0][0]               \n",
      "                                                                 batch_normalization_12[0][0]     \n",
      "__________________________________________________________________________________________________\n",
      "block14_sepconv1 (SeparableConv (None, 4, 4, 1536)   1582080     add_36[0][0]                     \n",
      "__________________________________________________________________________________________________\n",
      "block14_sepconv1_bn (BatchNorma (None, 4, 4, 1536)   6144        block14_sepconv1[0][0]           \n",
      "__________________________________________________________________________________________________\n",
      "block14_sepconv1_act (Activatio (None, 4, 4, 1536)   0           block14_sepconv1_bn[0][0]        \n",
      "__________________________________________________________________________________________________\n",
      "block14_sepconv2 (SeparableConv (None, 4, 4, 2048)   3159552     block14_sepconv1_act[0][0]       \n",
      "__________________________________________________________________________________________________\n",
      "block14_sepconv2_bn (BatchNorma (None, 4, 4, 2048)   8192        block14_sepconv2[0][0]           \n",
      "__________________________________________________________________________________________________\n",
      "block14_sepconv2_act (Activatio (None, 4, 4, 2048)   0           block14_sepconv2_bn[0][0]        \n",
      "==================================================================================================\n",
      "Total params: 20,861,480\n",
      "Trainable params: 20,806,952\n",
      "Non-trainable params: 54,528\n",
      "__________________________________________________________________________________________________\n"
     ]
    }
   ],
   "source": [
    "Xception(input_shape = (128, 128, 3), include_top = False, weights = None).summary()"
   ]
  },
  {
   "cell_type": "code",
   "execution_count": 4,
   "metadata": {},
   "outputs": [
    {
     "name": "stdout",
     "output_type": "stream",
     "text": [
      "__________________________________________________________________________________________________\n",
      "Layer (type)                    Output Shape         Param #     Connected to                     \n",
      "==================================================================================================\n",
      "input_2 (InputLayer)            (None, 128, 128, 3)  0                                            \n",
      "__________________________________________________________________________________________________\n",
      "lambda_3 (Lambda)               (None, 128, 128, 3)  0           input_2[0][0]                    \n",
      "__________________________________________________________________________________________________\n",
      "lambda_4 (Lambda)               (None, 128, 128, 3)  0           input_2[0][0]                    \n",
      "__________________________________________________________________________________________________\n",
      "model_3 (Model)                 (None, 340)          21558140    lambda_3[0][0]                   \n",
      "                                                                 lambda_4[0][0]                   \n",
      "__________________________________________________________________________________________________\n",
      "dense_2 (Concatenate)           (None, 340)          0           model_3[1][0]                    \n",
      "                                                                 model_3[2][0]                    \n",
      "==================================================================================================\n",
      "Total params: 21,558,140\n",
      "Trainable params: 21,503,612\n",
      "Non-trainable params: 54,528\n",
      "__________________________________________________________________________________________________\n",
      "None\n"
     ]
    }
   ],
   "source": [
    "base_model = Xception(input_shape = (128, 128, 3), include_top = False, weights = 'imagenet')\n",
    "x = GlobalAveragePooling2D()(base_model.output)\n",
    "x = Dense(340, activation = 'softmax')(x)\n",
    "model = Model(inputs = base_model.input, outputs = x)\n",
    "gpu_model = multi_gpu_model(model, 2)\n",
    "print(gpu_model.summary())"
   ]
  },
  {
   "cell_type": "code",
   "execution_count": 22,
   "metadata": {},
   "outputs": [
    {
     "name": "stdout",
     "output_type": "stream",
     "text": [
      "Epoch 1/100\n",
      "8789/8789 [==============================] - 4697s 534ms/step - loss: 1.0701 - categorical_crossentropy: 1.0701 - categorical_accuracy: 0.7263 - top_3_accuracy: 0.8838 - val_loss: 0.9115 - val_categorical_crossentropy: 0.9115 - val_categorical_accuracy: 0.7637 - val_top_3_accuracy: 0.9081\n",
      "\n",
      "Epoch 00001: val_top_3_accuracy improved from -inf to 0.90813, saving model to xception_model.h5\n",
      "Epoch 2/100\n",
      "8789/8789 [==============================] - 4673s 532ms/step - loss: 0.8684 - categorical_crossentropy: 0.8684 - categorical_accuracy: 0.7735 - top_3_accuracy: 0.9130 - val_loss: 0.8406 - val_categorical_crossentropy: 0.8406 - val_categorical_accuracy: 0.7815 - val_top_3_accuracy: 0.9170\n",
      "\n",
      "Epoch 00002: val_top_3_accuracy improved from 0.90813 to 0.91703, saving model to xception_model.h5\n",
      "Epoch 3/100\n",
      "8789/8789 [==============================] - 4690s 534ms/step - loss: 0.8126 - categorical_crossentropy: 0.8126 - categorical_accuracy: 0.7877 - top_3_accuracy: 0.9202 - val_loss: 0.7952 - val_categorical_crossentropy: 0.7952 - val_categorical_accuracy: 0.7920 - val_top_3_accuracy: 0.9218\n",
      "\n",
      "Epoch 00003: val_top_3_accuracy improved from 0.91703 to 0.92180, saving model to xception_model.h5\n",
      "Epoch 4/100\n",
      "8789/8789 [==============================] - 4778s 544ms/step - loss: 0.7752 - categorical_crossentropy: 0.7752 - categorical_accuracy: 0.7966 - top_3_accuracy: 0.9251 - val_loss: 0.7721 - val_categorical_crossentropy: 0.7721 - val_categorical_accuracy: 0.7969 - val_top_3_accuracy: 0.9252\n",
      "\n",
      "Epoch 00004: val_top_3_accuracy improved from 0.92180 to 0.92516, saving model to xception_model.h5\n",
      "Epoch 5/100\n",
      "8789/8789 [==============================] - 4999s 569ms/step - loss: 0.7547 - categorical_crossentropy: 0.7547 - categorical_accuracy: 0.8018 - top_3_accuracy: 0.9277 - val_loss: 0.7617 - val_categorical_crossentropy: 0.7617 - val_categorical_accuracy: 0.8001 - val_top_3_accuracy: 0.9274\n",
      "\n",
      "Epoch 00005: val_top_3_accuracy improved from 0.92516 to 0.92742, saving model to xception_model.h5\n",
      "Epoch 6/100\n",
      "8789/8789 [==============================] - 4943s 562ms/step - loss: 0.7370 - categorical_crossentropy: 0.7370 - categorical_accuracy: 0.8061 - top_3_accuracy: 0.9296 - val_loss: 0.7399 - val_categorical_crossentropy: 0.7399 - val_categorical_accuracy: 0.8053 - val_top_3_accuracy: 0.9298\n",
      "\n",
      "Epoch 00006: val_top_3_accuracy improved from 0.92742 to 0.92979, saving model to xception_model.h5\n",
      "Epoch 7/100\n",
      "8789/8789 [==============================] - 4899s 557ms/step - loss: 0.7239 - categorical_crossentropy: 0.7239 - categorical_accuracy: 0.8096 - top_3_accuracy: 0.9317 - val_loss: 0.7311 - val_categorical_crossentropy: 0.7311 - val_categorical_accuracy: 0.8085 - val_top_3_accuracy: 0.9301\n",
      "\n",
      "Epoch 00007: val_top_3_accuracy improved from 0.92979 to 0.93008, saving model to xception_model.h5\n",
      "Epoch 8/100\n",
      "8789/8789 [==============================] - 4695s 534ms/step - loss: 0.7145 - categorical_crossentropy: 0.7145 - categorical_accuracy: 0.8119 - top_3_accuracy: 0.9327 - val_loss: 0.6513 - val_categorical_crossentropy: 0.6513 - val_categorical_accuracy: 0.8246 - val_top_3_accuracy: 0.9403\n",
      "\n",
      "Epoch 00008: val_top_3_accuracy improved from 0.93008 to 0.94029, saving model to xception_model.h5\n",
      "Epoch 9/100\n",
      "8789/8789 [==============================] - 4688s 533ms/step - loss: 0.7005 - categorical_crossentropy: 0.7005 - categorical_accuracy: 0.8151 - top_3_accuracy: 0.9345 - val_loss: 0.6568 - val_categorical_crossentropy: 0.6568 - val_categorical_accuracy: 0.8244 - val_top_3_accuracy: 0.9391\n",
      "\n",
      "Epoch 00009: val_top_3_accuracy did not improve from 0.94029\n",
      "Epoch 10/100\n",
      "8789/8789 [==============================] - 4679s 532ms/step - loss: 0.6944 - categorical_crossentropy: 0.6944 - categorical_accuracy: 0.8165 - top_3_accuracy: 0.9351 - val_loss: 0.6523 - val_categorical_crossentropy: 0.6523 - val_categorical_accuracy: 0.8257 - val_top_3_accuracy: 0.9406\n",
      "\n",
      "Epoch 00010: val_top_3_accuracy improved from 0.94029 to 0.94060, saving model to xception_model.h5\n",
      "Epoch 11/100\n",
      "8789/8789 [==============================] - 4933s 561ms/step - loss: 0.6859 - categorical_crossentropy: 0.6859 - categorical_accuracy: 0.8185 - top_3_accuracy: 0.9363 - val_loss: 0.6579 - val_categorical_crossentropy: 0.6579 - val_categorical_accuracy: 0.8257 - val_top_3_accuracy: 0.9391\n",
      "\n",
      "Epoch 00011: val_top_3_accuracy did not improve from 0.94060\n",
      "Epoch 12/100\n",
      "8789/8789 [==============================] - 4989s 568ms/step - loss: 0.6788 - categorical_crossentropy: 0.6788 - categorical_accuracy: 0.8204 - top_3_accuracy: 0.9371 - val_loss: 0.6451 - val_categorical_crossentropy: 0.6451 - val_categorical_accuracy: 0.8274 - val_top_3_accuracy: 0.9414\n",
      "\n",
      "Epoch 00012: val_top_3_accuracy improved from 0.94060 to 0.94142, saving model to xception_model.h5\n",
      "Epoch 13/100\n",
      "8789/8789 [==============================] - 4991s 568ms/step - loss: 0.6727 - categorical_crossentropy: 0.6727 - categorical_accuracy: 0.8221 - top_3_accuracy: 0.9379 - val_loss: 0.6515 - val_categorical_crossentropy: 0.6515 - val_categorical_accuracy: 0.8258 - val_top_3_accuracy: 0.9408\n",
      "\n",
      "Epoch 00013: val_top_3_accuracy did not improve from 0.94142\n",
      "Epoch 14/100\n",
      "8789/8789 [==============================] - 4990s 568ms/step - loss: 0.6680 - categorical_crossentropy: 0.6680 - categorical_accuracy: 0.8230 - top_3_accuracy: 0.9384 - val_loss: 0.6485 - val_categorical_crossentropy: 0.6485 - val_categorical_accuracy: 0.8272 - val_top_3_accuracy: 0.9407\n",
      "\n",
      "Epoch 00014: val_top_3_accuracy did not improve from 0.94142\n",
      "Epoch 15/100\n",
      "8789/8789 [==============================] - 4993s 568ms/step - loss: 0.6642 - categorical_crossentropy: 0.6642 - categorical_accuracy: 0.8242 - top_3_accuracy: 0.9389 - val_loss: 0.6546 - val_categorical_crossentropy: 0.6546 - val_categorical_accuracy: 0.8271 - val_top_3_accuracy: 0.9407\n",
      "\n",
      "Epoch 00015: val_top_3_accuracy did not improve from 0.94142\n",
      "\n",
      "Epoch 00015: ReduceLROnPlateau reducing learning rate to 0.0004950000043027103.\n",
      "Epoch 16/100\n",
      "8789/8789 [==============================] - 5015s 571ms/step - loss: 0.6442 - categorical_crossentropy: 0.6442 - categorical_accuracy: 0.8294 - top_3_accuracy: 0.9411 - val_loss: 0.6441 - val_categorical_crossentropy: 0.6441 - val_categorical_accuracy: 0.8283 - val_top_3_accuracy: 0.9413\n",
      "\n",
      "Epoch 00016: val_top_3_accuracy did not improve from 0.94142\n",
      "Epoch 17/100\n",
      "8789/8789 [==============================] - 5008s 570ms/step - loss: 0.6369 - categorical_crossentropy: 0.6369 - categorical_accuracy: 0.8309 - top_3_accuracy: 0.9420 - val_loss: 0.6288 - val_categorical_crossentropy: 0.6288 - val_categorical_accuracy: 0.8332 - val_top_3_accuracy: 0.9426\n",
      "\n",
      "Epoch 00017: val_top_3_accuracy improved from 0.94142 to 0.94257, saving model to xception_model.h5\n",
      "Epoch 18/100\n",
      "8789/8789 [==============================] - 4918s 560ms/step - loss: 0.6335 - categorical_crossentropy: 0.6335 - categorical_accuracy: 0.8321 - top_3_accuracy: 0.9423 - val_loss: 0.5144 - val_categorical_crossentropy: 0.5144 - val_categorical_accuracy: 0.8632 - val_top_3_accuracy: 0.9551\n",
      "\n",
      "Epoch 00018: val_top_3_accuracy improved from 0.94257 to 0.95508, saving model to xception_model.h5\n",
      "Epoch 19/100\n",
      "8789/8789 [==============================] - 4687s 533ms/step - loss: 0.6302 - categorical_crossentropy: 0.6302 - categorical_accuracy: 0.8327 - top_3_accuracy: 0.9428 - val_loss: 0.5646 - val_categorical_crossentropy: 0.5646 - val_categorical_accuracy: 0.8478 - val_top_3_accuracy: 0.9504\n",
      "\n",
      "Epoch 00019: val_top_3_accuracy did not improve from 0.95508\n",
      "Epoch 20/100\n",
      "8789/8789 [==============================] - 4709s 536ms/step - loss: 0.6273 - categorical_crossentropy: 0.6273 - categorical_accuracy: 0.8333 - top_3_accuracy: 0.9432 - val_loss: 0.5809 - val_categorical_crossentropy: 0.5809 - val_categorical_accuracy: 0.8435 - val_top_3_accuracy: 0.9488\n",
      "\n",
      "Epoch 00020: val_top_3_accuracy did not improve from 0.95508\n",
      "Epoch 21/100\n",
      "8789/8789 [==============================] - 4708s 536ms/step - loss: 0.6269 - categorical_crossentropy: 0.6269 - categorical_accuracy: 0.8336 - top_3_accuracy: 0.9431 - val_loss: 0.5850 - val_categorical_crossentropy: 0.5850 - val_categorical_accuracy: 0.8420 - val_top_3_accuracy: 0.9481\n",
      "\n",
      "Epoch 00021: val_top_3_accuracy did not improve from 0.95508\n",
      "\n",
      "Epoch 00021: ReduceLROnPlateau reducing learning rate to 0.00032669999054633084.\n",
      "Epoch 22/100\n"
     ]
    },
    {
     "name": "stdout",
     "output_type": "stream",
     "text": [
      "8789/8789 [==============================] - 4697s 534ms/step - loss: 0.5938 - categorical_crossentropy: 0.5938 - categorical_accuracy: 0.8414 - top_3_accuracy: 0.9469 - val_loss: 0.5676 - val_categorical_crossentropy: 0.5676 - val_categorical_accuracy: 0.8471 - val_top_3_accuracy: 0.9497\n",
      "\n",
      "Epoch 00022: val_top_3_accuracy did not improve from 0.95508\n",
      "Epoch 23/100\n",
      "8789/8789 [==============================] - 4703s 535ms/step - loss: 0.6051 - categorical_crossentropy: 0.6051 - categorical_accuracy: 0.8390 - top_3_accuracy: 0.9455 - val_loss: 0.5634 - val_categorical_crossentropy: 0.5634 - val_categorical_accuracy: 0.8473 - val_top_3_accuracy: 0.9502\n",
      "\n",
      "Epoch 00023: val_top_3_accuracy did not improve from 0.95508\n",
      "Epoch 24/100\n",
      "8789/8789 [==============================] - 4697s 534ms/step - loss: 0.5959 - categorical_crossentropy: 0.5959 - categorical_accuracy: 0.8414 - top_3_accuracy: 0.9467 - val_loss: 0.5693 - val_categorical_crossentropy: 0.5693 - val_categorical_accuracy: 0.8470 - val_top_3_accuracy: 0.9497\n",
      "\n",
      "Epoch 00024: val_top_3_accuracy did not improve from 0.95508\n",
      "Epoch 25/100\n",
      "8789/8789 [==============================] - 4698s 535ms/step - loss: 0.5877 - categorical_crossentropy: 0.5877 - categorical_accuracy: 0.8432 - top_3_accuracy: 0.9475 - val_loss: 0.5715 - val_categorical_crossentropy: 0.5715 - val_categorical_accuracy: 0.8460 - val_top_3_accuracy: 0.9490\n",
      "\n",
      "Epoch 00025: val_top_3_accuracy did not improve from 0.95508\n",
      "Epoch 26/100\n",
      "8789/8789 [==============================] - 4698s 534ms/step - loss: 0.5949 - categorical_crossentropy: 0.5949 - categorical_accuracy: 0.8413 - top_3_accuracy: 0.9469 - val_loss: 0.5692 - val_categorical_crossentropy: 0.5692 - val_categorical_accuracy: 0.8482 - val_top_3_accuracy: 0.9497\n",
      "\n",
      "Epoch 00026: val_top_3_accuracy did not improve from 0.95508\n",
      "\n",
      "Epoch 00026: ReduceLROnPlateau reducing learning rate to 0.00021562198991887272.\n",
      "Epoch 27/100\n",
      "8789/8789 [==============================] - 4701s 535ms/step - loss: 0.5882 - categorical_crossentropy: 0.5882 - categorical_accuracy: 0.8428 - top_3_accuracy: 0.9473 - val_loss: 0.5598 - val_categorical_crossentropy: 0.5598 - val_categorical_accuracy: 0.8506 - val_top_3_accuracy: 0.9506\n",
      "\n",
      "Epoch 00027: val_top_3_accuracy did not improve from 0.95508\n",
      "Epoch 28/100\n",
      "8789/8789 [==============================] - 4699s 535ms/step - loss: 0.5772 - categorical_crossentropy: 0.5772 - categorical_accuracy: 0.8457 - top_3_accuracy: 0.9487 - val_loss: 0.5571 - val_categorical_crossentropy: 0.5571 - val_categorical_accuracy: 0.8495 - val_top_3_accuracy: 0.9511\n",
      "\n",
      "Epoch 00028: val_top_3_accuracy did not improve from 0.95508\n",
      "Epoch 29/100\n",
      "8789/8789 [==============================] - 4709s 536ms/step - loss: 0.5644 - categorical_crossentropy: 0.5644 - categorical_accuracy: 0.8488 - top_3_accuracy: 0.9500 - val_loss: 0.5702 - val_categorical_crossentropy: 0.5702 - val_categorical_accuracy: 0.8483 - val_top_3_accuracy: 0.9492\n",
      "\n",
      "Epoch 00029: val_top_3_accuracy did not improve from 0.95508\n",
      "Epoch 30/100\n",
      "8789/8789 [==============================] - 4713s 536ms/step - loss: 0.5646 - categorical_crossentropy: 0.5646 - categorical_accuracy: 0.8489 - top_3_accuracy: 0.9501 - val_loss: 0.5074 - val_categorical_crossentropy: 0.5074 - val_categorical_accuracy: 0.8644 - val_top_3_accuracy: 0.9562\n",
      "\n",
      "Epoch 00030: val_top_3_accuracy improved from 0.95508 to 0.95620, saving model to xception_model.h5\n",
      "Epoch 31/100\n",
      "8789/8789 [==============================] - 4713s 536ms/step - loss: 0.5790 - categorical_crossentropy: 0.5790 - categorical_accuracy: 0.8453 - top_3_accuracy: 0.9486 - val_loss: 0.5326 - val_categorical_crossentropy: 0.5326 - val_categorical_accuracy: 0.8559 - val_top_3_accuracy: 0.9536\n",
      "\n",
      "Epoch 00031: val_top_3_accuracy did not improve from 0.95620\n",
      "Epoch 32/100\n",
      "8789/8789 [==============================] - 4711s 536ms/step - loss: 0.5782 - categorical_crossentropy: 0.5782 - categorical_accuracy: 0.8458 - top_3_accuracy: 0.9485 - val_loss: 0.5427 - val_categorical_crossentropy: 0.5427 - val_categorical_accuracy: 0.8540 - val_top_3_accuracy: 0.9528\n",
      "\n",
      "Epoch 00032: val_top_3_accuracy did not improve from 0.95620\n",
      "Epoch 33/100\n",
      "8789/8789 [==============================] - 4709s 536ms/step - loss: 0.5527 - categorical_crossentropy: 0.5527 - categorical_accuracy: 0.8520 - top_3_accuracy: 0.9512 - val_loss: 0.5389 - val_categorical_crossentropy: 0.5389 - val_categorical_accuracy: 0.8548 - val_top_3_accuracy: 0.9526\n",
      "\n",
      "Epoch 00033: val_top_3_accuracy did not improve from 0.95620\n",
      "\n",
      "Epoch 00033: ReduceLROnPlateau reducing learning rate to 0.0001423105102730915.\n",
      "Epoch 34/100\n",
      "8789/8789 [==============================] - 4736s 539ms/step - loss: 0.5536 - categorical_crossentropy: 0.5536 - categorical_accuracy: 0.8518 - top_3_accuracy: 0.9513 - val_loss: 0.5414 - val_categorical_crossentropy: 0.5414 - val_categorical_accuracy: 0.8547 - val_top_3_accuracy: 0.9525\n",
      "\n",
      "Epoch 00034: val_top_3_accuracy did not improve from 0.95620\n",
      "Epoch 35/100\n",
      "8789/8789 [==============================] - 4838s 550ms/step - loss: 0.5557 - categorical_crossentropy: 0.5557 - categorical_accuracy: 0.8515 - top_3_accuracy: 0.9510 - val_loss: 0.5378 - val_categorical_crossentropy: 0.5378 - val_categorical_accuracy: 0.8550 - val_top_3_accuracy: 0.9532\n",
      "\n",
      "Epoch 00035: val_top_3_accuracy did not improve from 0.95620\n",
      "Epoch 36/100\n",
      "8789/8789 [==============================] - 4834s 550ms/step - loss: 0.5508 - categorical_crossentropy: 0.5508 - categorical_accuracy: 0.8521 - top_3_accuracy: 0.9517 - val_loss: 0.5405 - val_categorical_crossentropy: 0.5405 - val_categorical_accuracy: 0.8540 - val_top_3_accuracy: 0.9529\n",
      "\n",
      "Epoch 00036: val_top_3_accuracy did not improve from 0.95620\n",
      "Epoch 37/100\n",
      "8789/8789 [==============================] - 4725s 538ms/step - loss: 0.5561 - categorical_crossentropy: 0.5561 - categorical_accuracy: 0.8511 - top_3_accuracy: 0.9509 - val_loss: 0.5372 - val_categorical_crossentropy: 0.5372 - val_categorical_accuracy: 0.8555 - val_top_3_accuracy: 0.9532\n",
      "\n",
      "Epoch 00037: val_top_3_accuracy did not improve from 0.95620\n",
      "Epoch 38/100\n",
      "8789/8789 [==============================] - 5065s 576ms/step - loss: 0.5581 - categorical_crossentropy: 0.5581 - categorical_accuracy: 0.8507 - top_3_accuracy: 0.9508 - val_loss: 0.5332 - val_categorical_crossentropy: 0.5332 - val_categorical_accuracy: 0.8559 - val_top_3_accuracy: 0.9530\n",
      "\n",
      "Epoch 00038: val_top_3_accuracy did not improve from 0.95620\n",
      "\n",
      "Epoch 00038: ReduceLROnPlateau reducing learning rate to 9.39249387010932e-05.\n",
      "Epoch 39/100\n",
      "8789/8789 [==============================] - 5194s 591ms/step - loss: 0.5594 - categorical_crossentropy: 0.5594 - categorical_accuracy: 0.8505 - top_3_accuracy: 0.9506 - val_loss: 0.5348 - val_categorical_crossentropy: 0.5348 - val_categorical_accuracy: 0.8559 - val_top_3_accuracy: 0.9531\n",
      "\n",
      "Epoch 00039: val_top_3_accuracy did not improve from 0.95620\n",
      "Epoch 40/100\n",
      "8789/8789 [==============================] - 5207s 592ms/step - loss: 0.5654 - categorical_crossentropy: 0.5654 - categorical_accuracy: 0.8490 - top_3_accuracy: 0.9500 - val_loss: 0.5330 - val_categorical_crossentropy: 0.5330 - val_categorical_accuracy: 0.8565 - val_top_3_accuracy: 0.9538\n",
      "\n",
      "Epoch 00040: val_top_3_accuracy did not improve from 0.95620\n",
      "Epoch 41/100\n",
      "8789/8789 [==============================] - 5324s 606ms/step - loss: 0.5455 - categorical_crossentropy: 0.5455 - categorical_accuracy: 0.8537 - top_3_accuracy: 0.9521 - val_loss: 0.5412 - val_categorical_crossentropy: 0.5412 - val_categorical_accuracy: 0.8549 - val_top_3_accuracy: 0.9524\n",
      "\n",
      "Epoch 00041: val_top_3_accuracy did not improve from 0.95620\n",
      "Epoch 42/100\n",
      "8789/8789 [==============================] - 5318s 605ms/step - loss: 0.5395 - categorical_crossentropy: 0.5395 - categorical_accuracy: 0.8554 - top_3_accuracy: 0.9526 - val_loss: 0.5397 - val_categorical_crossentropy: 0.5397 - val_categorical_accuracy: 0.8563 - val_top_3_accuracy: 0.9523\n",
      "\n",
      "Epoch 00042: val_top_3_accuracy did not improve from 0.95620\n",
      "Epoch 43/100\n",
      "8789/8789 [==============================] - 5323s 606ms/step - loss: 0.5410 - categorical_crossentropy: 0.5410 - categorical_accuracy: 0.8548 - top_3_accuracy: 0.9526 - val_loss: 0.5282 - val_categorical_crossentropy: 0.5282 - val_categorical_accuracy: 0.8577 - val_top_3_accuracy: 0.9541\n"
     ]
    },
    {
     "name": "stdout",
     "output_type": "stream",
     "text": [
      "\n",
      "Epoch 00043: val_top_3_accuracy did not improve from 0.95620\n",
      "\n",
      "Epoch 00043: ReduceLROnPlateau reducing learning rate to 6.199045819812455e-05.\n",
      "Epoch 44/100\n",
      "8789/8789 [==============================] - 5308s 604ms/step - loss: 0.5376 - categorical_crossentropy: 0.5376 - categorical_accuracy: 0.8556 - top_3_accuracy: 0.9528 - val_loss: 0.5343 - val_categorical_crossentropy: 0.5343 - val_categorical_accuracy: 0.8556 - val_top_3_accuracy: 0.9534\n",
      "\n",
      "Epoch 00044: val_top_3_accuracy did not improve from 0.95620\n",
      "Epoch 45/100\n",
      "8789/8789 [==============================] - 5307s 604ms/step - loss: 0.5372 - categorical_crossentropy: 0.5372 - categorical_accuracy: 0.8559 - top_3_accuracy: 0.9529 - val_loss: 0.5323 - val_categorical_crossentropy: 0.5323 - val_categorical_accuracy: 0.8565 - val_top_3_accuracy: 0.9536\n",
      "\n",
      "Epoch 00045: val_top_3_accuracy did not improve from 0.95620\n",
      "Epoch 46/100\n",
      "8789/8789 [==============================] - 5306s 604ms/step - loss: 0.5251 - categorical_crossentropy: 0.5251 - categorical_accuracy: 0.8585 - top_3_accuracy: 0.9542 - val_loss: 0.5380 - val_categorical_crossentropy: 0.5380 - val_categorical_accuracy: 0.8565 - val_top_3_accuracy: 0.9529\n",
      "\n",
      "Epoch 00046: val_top_3_accuracy did not improve from 0.95620\n",
      "Epoch 47/100\n",
      "5618/8789 [==================>...........] - ETA: 30:52 - loss: 0.5240 - categorical_crossentropy: 0.5240 - categorical_accuracy: 0.8592 - top_3_accuracy: 0.9544"
     ]
    },
    {
     "ename": "KeyboardInterrupt",
     "evalue": "",
     "output_type": "error",
     "traceback": [
      "\u001b[0;31m---------------------------------------------------------------------------\u001b[0m",
      "\u001b[0;31mKeyboardInterrupt\u001b[0m                         Traceback (most recent call last)",
      "\u001b[0;32m<ipython-input-22-a4bd4d8c63a9>\u001b[0m in \u001b[0;36m<module>\u001b[0;34m()\u001b[0m\n\u001b[1;32m     39\u001b[0m     \u001b[0mvalidation_data\u001b[0m \u001b[0;34m=\u001b[0m \u001b[0mvalid_datagen\u001b[0m\u001b[0;34m,\u001b[0m \u001b[0mvalidation_steps\u001b[0m \u001b[0;34m=\u001b[0m \u001b[0mSTEPS\u001b[0m \u001b[0;34m//\u001b[0m \u001b[0;36m13\u001b[0m\u001b[0;34m,\u001b[0m\u001b[0;34m\u001b[0m\u001b[0m\n\u001b[1;32m     40\u001b[0m \u001b[0;31m#     validation_data=(x_valid, y_valid),\u001b[0m\u001b[0;34m\u001b[0m\u001b[0;34m\u001b[0m\u001b[0m\n\u001b[0;32m---> 41\u001b[0;31m     \u001b[0mcallbacks\u001b[0m \u001b[0;34m=\u001b[0m \u001b[0mcallbacks\u001b[0m\u001b[0;34m\u001b[0m\u001b[0m\n\u001b[0m\u001b[1;32m     42\u001b[0m )\n\u001b[1;32m     43\u001b[0m \u001b[0;34m\u001b[0m\u001b[0m\n",
      "\u001b[0;32m~/.local/lib/python3.6/site-packages/keras/legacy/interfaces.py\u001b[0m in \u001b[0;36mwrapper\u001b[0;34m(*args, **kwargs)\u001b[0m\n\u001b[1;32m     89\u001b[0m                 warnings.warn('Update your `' + object_name + '` call to the ' +\n\u001b[1;32m     90\u001b[0m                               'Keras 2 API: ' + signature, stacklevel=2)\n\u001b[0;32m---> 91\u001b[0;31m             \u001b[0;32mreturn\u001b[0m \u001b[0mfunc\u001b[0m\u001b[0;34m(\u001b[0m\u001b[0;34m*\u001b[0m\u001b[0margs\u001b[0m\u001b[0;34m,\u001b[0m \u001b[0;34m**\u001b[0m\u001b[0mkwargs\u001b[0m\u001b[0;34m)\u001b[0m\u001b[0;34m\u001b[0m\u001b[0m\n\u001b[0m\u001b[1;32m     92\u001b[0m         \u001b[0mwrapper\u001b[0m\u001b[0;34m.\u001b[0m\u001b[0m_original_function\u001b[0m \u001b[0;34m=\u001b[0m \u001b[0mfunc\u001b[0m\u001b[0;34m\u001b[0m\u001b[0m\n\u001b[1;32m     93\u001b[0m         \u001b[0;32mreturn\u001b[0m \u001b[0mwrapper\u001b[0m\u001b[0;34m\u001b[0m\u001b[0m\n",
      "\u001b[0;32m~/.local/lib/python3.6/site-packages/keras/engine/training.py\u001b[0m in \u001b[0;36mfit_generator\u001b[0;34m(self, generator, steps_per_epoch, epochs, verbose, callbacks, validation_data, validation_steps, class_weight, max_queue_size, workers, use_multiprocessing, shuffle, initial_epoch)\u001b[0m\n\u001b[1;32m   1416\u001b[0m             \u001b[0muse_multiprocessing\u001b[0m\u001b[0;34m=\u001b[0m\u001b[0muse_multiprocessing\u001b[0m\u001b[0;34m,\u001b[0m\u001b[0;34m\u001b[0m\u001b[0m\n\u001b[1;32m   1417\u001b[0m             \u001b[0mshuffle\u001b[0m\u001b[0;34m=\u001b[0m\u001b[0mshuffle\u001b[0m\u001b[0;34m,\u001b[0m\u001b[0;34m\u001b[0m\u001b[0m\n\u001b[0;32m-> 1418\u001b[0;31m             initial_epoch=initial_epoch)\n\u001b[0m\u001b[1;32m   1419\u001b[0m \u001b[0;34m\u001b[0m\u001b[0m\n\u001b[1;32m   1420\u001b[0m     \u001b[0;34m@\u001b[0m\u001b[0minterfaces\u001b[0m\u001b[0;34m.\u001b[0m\u001b[0mlegacy_generator_methods_support\u001b[0m\u001b[0;34m\u001b[0m\u001b[0m\n",
      "\u001b[0;32m~/.local/lib/python3.6/site-packages/keras/engine/training_generator.py\u001b[0m in \u001b[0;36mfit_generator\u001b[0;34m(model, generator, steps_per_epoch, epochs, verbose, callbacks, validation_data, validation_steps, class_weight, max_queue_size, workers, use_multiprocessing, shuffle, initial_epoch)\u001b[0m\n\u001b[1;32m    215\u001b[0m                 outs = model.train_on_batch(x, y,\n\u001b[1;32m    216\u001b[0m                                             \u001b[0msample_weight\u001b[0m\u001b[0;34m=\u001b[0m\u001b[0msample_weight\u001b[0m\u001b[0;34m,\u001b[0m\u001b[0;34m\u001b[0m\u001b[0m\n\u001b[0;32m--> 217\u001b[0;31m                                             class_weight=class_weight)\n\u001b[0m\u001b[1;32m    218\u001b[0m \u001b[0;34m\u001b[0m\u001b[0m\n\u001b[1;32m    219\u001b[0m                 \u001b[0mouts\u001b[0m \u001b[0;34m=\u001b[0m \u001b[0mto_list\u001b[0m\u001b[0;34m(\u001b[0m\u001b[0mouts\u001b[0m\u001b[0;34m)\u001b[0m\u001b[0;34m\u001b[0m\u001b[0m\n",
      "\u001b[0;32m~/.local/lib/python3.6/site-packages/keras/engine/training.py\u001b[0m in \u001b[0;36mtrain_on_batch\u001b[0;34m(self, x, y, sample_weight, class_weight)\u001b[0m\n\u001b[1;32m   1215\u001b[0m             \u001b[0mins\u001b[0m \u001b[0;34m=\u001b[0m \u001b[0mx\u001b[0m \u001b[0;34m+\u001b[0m \u001b[0my\u001b[0m \u001b[0;34m+\u001b[0m \u001b[0msample_weights\u001b[0m\u001b[0;34m\u001b[0m\u001b[0m\n\u001b[1;32m   1216\u001b[0m         \u001b[0mself\u001b[0m\u001b[0;34m.\u001b[0m\u001b[0m_make_train_function\u001b[0m\u001b[0;34m(\u001b[0m\u001b[0;34m)\u001b[0m\u001b[0;34m\u001b[0m\u001b[0m\n\u001b[0;32m-> 1217\u001b[0;31m         \u001b[0moutputs\u001b[0m \u001b[0;34m=\u001b[0m \u001b[0mself\u001b[0m\u001b[0;34m.\u001b[0m\u001b[0mtrain_function\u001b[0m\u001b[0;34m(\u001b[0m\u001b[0mins\u001b[0m\u001b[0;34m)\u001b[0m\u001b[0;34m\u001b[0m\u001b[0m\n\u001b[0m\u001b[1;32m   1218\u001b[0m         \u001b[0;32mreturn\u001b[0m \u001b[0munpack_singleton\u001b[0m\u001b[0;34m(\u001b[0m\u001b[0moutputs\u001b[0m\u001b[0;34m)\u001b[0m\u001b[0;34m\u001b[0m\u001b[0m\n\u001b[1;32m   1219\u001b[0m \u001b[0;34m\u001b[0m\u001b[0m\n",
      "\u001b[0;32m~/.local/lib/python3.6/site-packages/keras/backend/tensorflow_backend.py\u001b[0m in \u001b[0;36m__call__\u001b[0;34m(self, inputs)\u001b[0m\n\u001b[1;32m   2713\u001b[0m                 \u001b[0;32mreturn\u001b[0m \u001b[0mself\u001b[0m\u001b[0;34m.\u001b[0m\u001b[0m_legacy_call\u001b[0m\u001b[0;34m(\u001b[0m\u001b[0minputs\u001b[0m\u001b[0;34m)\u001b[0m\u001b[0;34m\u001b[0m\u001b[0m\n\u001b[1;32m   2714\u001b[0m \u001b[0;34m\u001b[0m\u001b[0m\n\u001b[0;32m-> 2715\u001b[0;31m             \u001b[0;32mreturn\u001b[0m \u001b[0mself\u001b[0m\u001b[0;34m.\u001b[0m\u001b[0m_call\u001b[0m\u001b[0;34m(\u001b[0m\u001b[0minputs\u001b[0m\u001b[0;34m)\u001b[0m\u001b[0;34m\u001b[0m\u001b[0m\n\u001b[0m\u001b[1;32m   2716\u001b[0m         \u001b[0;32melse\u001b[0m\u001b[0;34m:\u001b[0m\u001b[0;34m\u001b[0m\u001b[0m\n\u001b[1;32m   2717\u001b[0m             \u001b[0;32mif\u001b[0m \u001b[0mpy_any\u001b[0m\u001b[0;34m(\u001b[0m\u001b[0mis_tensor\u001b[0m\u001b[0;34m(\u001b[0m\u001b[0mx\u001b[0m\u001b[0;34m)\u001b[0m \u001b[0;32mfor\u001b[0m \u001b[0mx\u001b[0m \u001b[0;32min\u001b[0m \u001b[0minputs\u001b[0m\u001b[0;34m)\u001b[0m\u001b[0;34m:\u001b[0m\u001b[0;34m\u001b[0m\u001b[0m\n",
      "\u001b[0;32m~/.local/lib/python3.6/site-packages/keras/backend/tensorflow_backend.py\u001b[0m in \u001b[0;36m_call\u001b[0;34m(self, inputs)\u001b[0m\n\u001b[1;32m   2673\u001b[0m             \u001b[0mfetched\u001b[0m \u001b[0;34m=\u001b[0m \u001b[0mself\u001b[0m\u001b[0;34m.\u001b[0m\u001b[0m_callable_fn\u001b[0m\u001b[0;34m(\u001b[0m\u001b[0;34m*\u001b[0m\u001b[0marray_vals\u001b[0m\u001b[0;34m,\u001b[0m \u001b[0mrun_metadata\u001b[0m\u001b[0;34m=\u001b[0m\u001b[0mself\u001b[0m\u001b[0;34m.\u001b[0m\u001b[0mrun_metadata\u001b[0m\u001b[0;34m)\u001b[0m\u001b[0;34m\u001b[0m\u001b[0m\n\u001b[1;32m   2674\u001b[0m         \u001b[0;32melse\u001b[0m\u001b[0;34m:\u001b[0m\u001b[0;34m\u001b[0m\u001b[0m\n\u001b[0;32m-> 2675\u001b[0;31m             \u001b[0mfetched\u001b[0m \u001b[0;34m=\u001b[0m \u001b[0mself\u001b[0m\u001b[0;34m.\u001b[0m\u001b[0m_callable_fn\u001b[0m\u001b[0;34m(\u001b[0m\u001b[0;34m*\u001b[0m\u001b[0marray_vals\u001b[0m\u001b[0;34m)\u001b[0m\u001b[0;34m\u001b[0m\u001b[0m\n\u001b[0m\u001b[1;32m   2676\u001b[0m         \u001b[0;32mreturn\u001b[0m \u001b[0mfetched\u001b[0m\u001b[0;34m[\u001b[0m\u001b[0;34m:\u001b[0m\u001b[0mlen\u001b[0m\u001b[0;34m(\u001b[0m\u001b[0mself\u001b[0m\u001b[0;34m.\u001b[0m\u001b[0moutputs\u001b[0m\u001b[0;34m)\u001b[0m\u001b[0;34m]\u001b[0m\u001b[0;34m\u001b[0m\u001b[0m\n\u001b[1;32m   2677\u001b[0m \u001b[0;34m\u001b[0m\u001b[0m\n",
      "\u001b[0;32m~/.local/lib/python3.6/site-packages/tensorflow/python/client/session.py\u001b[0m in \u001b[0;36m__call__\u001b[0;34m(self, *args)\u001b[0m\n\u001b[1;32m   1449\u001b[0m         \u001b[0;32mif\u001b[0m \u001b[0mself\u001b[0m\u001b[0;34m.\u001b[0m\u001b[0m_session\u001b[0m\u001b[0;34m.\u001b[0m\u001b[0m_created_with_new_api\u001b[0m\u001b[0;34m:\u001b[0m\u001b[0;34m\u001b[0m\u001b[0m\n\u001b[1;32m   1450\u001b[0m           return tf_session.TF_SessionRunCallable(\n\u001b[0;32m-> 1451\u001b[0;31m               self._session._session, self._handle, args, status, None)\n\u001b[0m\u001b[1;32m   1452\u001b[0m         \u001b[0;32melse\u001b[0m\u001b[0;34m:\u001b[0m\u001b[0;34m\u001b[0m\u001b[0m\n\u001b[1;32m   1453\u001b[0m           return tf_session.TF_DeprecatedSessionRunCallable(\n",
      "\u001b[0;31mKeyboardInterrupt\u001b[0m: "
     ]
    }
   ],
   "source": [
    "### Xception\n",
    "from keras.callbacks import CSVLogger\n",
    "\n",
    "EPOCHS = 100\n",
    "TOTAL_TRAIN = 2250000\n",
    "BATCH_SIZE = 128 * 2\n",
    "STEPS = TOTAL_TRAIN // BATCH_SIZE\n",
    "\n",
    "train_datagen = image_generator_xd(size=size, batchsize=BATCH_SIZE, ks=range(NCSVS - 1))\n",
    "valid_datagen = image_generator_xd(size=size, batchsize=BATCH_SIZE, ks=NCSVS - 1)\n",
    "\n",
    "def step_decay_exp(epoch):\n",
    "    initial_lrate = 0.00075\n",
    "    drop = 0.5 # drop by how much? 0.5 = half each time\n",
    "    epochs_drop = 7.0 # drop how many x epochs\n",
    "    lrate = initial_lrate * math.pow(drop, math.floor((1+epoch)/epochs_drop))\n",
    "    return max(1e-6, lrate)\n",
    "\n",
    "callbacks = [\n",
    "    ModelCheckpoint('xception_model.h5', monitor = 'val_top_3_accuracy', mode = 'max', save_best_only = True, verbose = 1),\n",
    "    ModelCheckpoint('xception_model_last.h5', monitor = 'val_top_3_accuracy', mode = 'max', save_best_only = False, verbose = 0),\n",
    "    ReduceLROnPlateau(monitor='val_top_3_accuracy', factor=0.66, patience=3,\n",
    "                      min_lr = 0.000001, \n",
    "                      mode='max', \n",
    "                      cooldown=3, verbose=1),\n",
    "#     LearningRateScheduler(step_decay_exp),\n",
    "    CSVLogger('xception_log.csv', append=True, separator=';')\n",
    "]\n",
    "\n",
    "# sgdOptimiser = SGD(lr = 0.001, momentum=0.9, decay = 0.0001,  nesterov=True)\n",
    "\n",
    "gpu_model.compile(optimizer=Adam(lr=0.00075), loss='categorical_crossentropy',\n",
    "              metrics=[categorical_crossentropy, categorical_accuracy, top_3_accuracy])\n",
    "\n",
    "gpu_model.fit_generator(\n",
    "    train_datagen, steps_per_epoch=STEPS, epochs=EPOCHS, verbose=1,\n",
    "    validation_data = valid_datagen, validation_steps = STEPS // 13, # can try STEPS // 6 or 7 for more consistent validation\n",
    "    callbacks = callbacks\n",
    ")"
   ]
  },
  {
   "cell_type": "code",
   "execution_count": 48,
   "metadata": {},
   "outputs": [
    {
     "name": "stderr",
     "output_type": "stream",
     "text": [
      "/home/wilan/.local/lib/python3.6/site-packages/ipykernel_launcher.py:228: SettingWithCopyWarning: \n",
      "A value is trying to be set on a copy of a slice from a DataFrame.\n",
      "Try using .loc[row_indexer,col_indexer] = value instead\n",
      "\n",
      "See the caveats in the documentation: http://pandas.pydata.org/pandas-docs/stable/indexing.html#indexing-view-versus-copy\n"
     ]
    },
    {
     "name": "stdout",
     "output_type": "stream",
     "text": [
      "30000/30000 [==============================] - 19s 634us/step\n",
      "Pred shape: (30000, 340)\n"
     ]
    },
    {
     "data": {
      "text/plain": [
       "0"
      ]
     },
     "execution_count": 48,
     "metadata": {},
     "output_type": "execute_result"
    },
    {
     "name": "stdout",
     "output_type": "stream",
     "text": [
      "30000/30000 [==============================] - 18s 614us/step\n",
      "Pred shape: (60000, 340)\n"
     ]
    },
    {
     "data": {
      "text/plain": [
       "0"
      ]
     },
     "execution_count": 48,
     "metadata": {},
     "output_type": "execute_result"
    },
    {
     "name": "stdout",
     "output_type": "stream",
     "text": [
      "30000/30000 [==============================] - 19s 623us/step\n",
      "Pred shape: (90000, 340)\n"
     ]
    },
    {
     "data": {
      "text/plain": [
       "0"
      ]
     },
     "execution_count": 48,
     "metadata": {},
     "output_type": "execute_result"
    },
    {
     "name": "stdout",
     "output_type": "stream",
     "text": [
      "30000/30000 [==============================] - 18s 600us/step\n",
      "Pred shape: (120000, 340)\n"
     ]
    },
    {
     "data": {
      "text/plain": [
       "0"
      ]
     },
     "execution_count": 48,
     "metadata": {},
     "output_type": "execute_result"
    },
    {
     "name": "stdout",
     "output_type": "stream",
     "text": [
      "30000/30000 [==============================] - 19s 622us/step\n",
      "Pred shape: (150000, 340)\n"
     ]
    },
    {
     "data": {
      "text/plain": [
       "0"
      ]
     },
     "execution_count": 48,
     "metadata": {},
     "output_type": "execute_result"
    },
    {
     "name": "stdout",
     "output_type": "stream",
     "text": [
      "30000/30000 [==============================] - 18s 602us/step\n",
      "Pred shape: (180000, 340)\n"
     ]
    },
    {
     "data": {
      "text/plain": [
       "0"
      ]
     },
     "execution_count": 48,
     "metadata": {},
     "output_type": "execute_result"
    },
    {
     "name": "stdout",
     "output_type": "stream",
     "text": [
      "30000/30000 [==============================] - 18s 609us/step\n",
      "Pred shape: (210000, 340)\n"
     ]
    },
    {
     "data": {
      "text/plain": [
       "0"
      ]
     },
     "execution_count": 48,
     "metadata": {},
     "output_type": "execute_result"
    },
    {
     "name": "stdout",
     "output_type": "stream",
     "text": [
      "30000/30000 [==============================] - 18s 602us/step\n",
      "Pred shape: (240000, 340)\n"
     ]
    },
    {
     "data": {
      "text/plain": [
       "0"
      ]
     },
     "execution_count": 48,
     "metadata": {},
     "output_type": "execute_result"
    },
    {
     "name": "stdout",
     "output_type": "stream",
     "text": [
      "30000/30000 [==============================] - 18s 597us/step\n",
      "Pred shape: (270000, 340)\n"
     ]
    },
    {
     "data": {
      "text/plain": [
       "0"
      ]
     },
     "execution_count": 48,
     "metadata": {},
     "output_type": "execute_result"
    },
    {
     "name": "stdout",
     "output_type": "stream",
     "text": [
      "30000/30000 [==============================] - 18s 603us/step\n",
      "Pred shape: (300000, 340)\n"
     ]
    },
    {
     "data": {
      "text/plain": [
       "0"
      ]
     },
     "execution_count": 48,
     "metadata": {},
     "output_type": "execute_result"
    },
    {
     "name": "stdout",
     "output_type": "stream",
     "text": [
      "30000/30000 [==============================] - 18s 594us/step\n",
      "Pred shape: (330000, 340)\n"
     ]
    },
    {
     "data": {
      "text/plain": [
       "0"
      ]
     },
     "execution_count": 48,
     "metadata": {},
     "output_type": "execute_result"
    },
    {
     "name": "stdout",
     "output_type": "stream",
     "text": [
      "30000/30000 [==============================] - 18s 610us/step\n",
      "Pred shape: (360000, 340)\n"
     ]
    },
    {
     "data": {
      "text/plain": [
       "0"
      ]
     },
     "execution_count": 48,
     "metadata": {},
     "output_type": "execute_result"
    },
    {
     "name": "stdout",
     "output_type": "stream",
     "text": [
      "30000/30000 [==============================] - 18s 604us/step\n",
      "Pred shape: (390000, 340)\n"
     ]
    },
    {
     "data": {
      "text/plain": [
       "0"
      ]
     },
     "execution_count": 48,
     "metadata": {},
     "output_type": "execute_result"
    },
    {
     "name": "stdout",
     "output_type": "stream",
     "text": [
      "30000/30000 [==============================] - 18s 607us/step\n",
      "Pred shape: (420000, 340)\n"
     ]
    },
    {
     "data": {
      "text/plain": [
       "0"
      ]
     },
     "execution_count": 48,
     "metadata": {},
     "output_type": "execute_result"
    },
    {
     "name": "stdout",
     "output_type": "stream",
     "text": [
      "30000/30000 [==============================] - 18s 612us/step\n",
      "Pred shape: (450000, 340)\n"
     ]
    },
    {
     "data": {
      "text/plain": [
       "0"
      ]
     },
     "execution_count": 48,
     "metadata": {},
     "output_type": "execute_result"
    },
    {
     "name": "stdout",
     "output_type": "stream",
     "text": [
      "30000/30000 [==============================] - 18s 597us/step\n",
      "Pred shape: (480000, 340)\n"
     ]
    },
    {
     "data": {
      "text/plain": [
       "0"
      ]
     },
     "execution_count": 48,
     "metadata": {},
     "output_type": "execute_result"
    },
    {
     "name": "stdout",
     "output_type": "stream",
     "text": [
      "30000/30000 [==============================] - 18s 602us/step\n",
      "Pred shape: (510000, 340)\n"
     ]
    },
    {
     "data": {
      "text/plain": [
       "0"
      ]
     },
     "execution_count": 48,
     "metadata": {},
     "output_type": "execute_result"
    },
    {
     "name": "stdout",
     "output_type": "stream",
     "text": [
      "30000/30000 [==============================] - 18s 602us/step\n",
      "Pred shape: (540000, 340)\n"
     ]
    },
    {
     "data": {
      "text/plain": [
       "0"
      ]
     },
     "execution_count": 48,
     "metadata": {},
     "output_type": "execute_result"
    },
    {
     "name": "stdout",
     "output_type": "stream",
     "text": [
      "30000/30000 [==============================] - 18s 609us/step\n",
      "Pred shape: (570000, 340)\n"
     ]
    },
    {
     "data": {
      "text/plain": [
       "0"
      ]
     },
     "execution_count": 48,
     "metadata": {},
     "output_type": "execute_result"
    },
    {
     "name": "stdout",
     "output_type": "stream",
     "text": [
      "30000/30000 [==============================] - 19s 619us/step\n",
      "Pred shape: (600000, 340)\n"
     ]
    },
    {
     "data": {
      "text/plain": [
       "0"
      ]
     },
     "execution_count": 48,
     "metadata": {},
     "output_type": "execute_result"
    },
    {
     "name": "stdout",
     "output_type": "stream",
     "text": [
      "30000/30000 [==============================] - 18s 609us/step\n",
      "Pred shape: (630000, 340)\n"
     ]
    },
    {
     "data": {
      "text/plain": [
       "0"
      ]
     },
     "execution_count": 48,
     "metadata": {},
     "output_type": "execute_result"
    },
    {
     "name": "stdout",
     "output_type": "stream",
     "text": [
      "30000/30000 [==============================] - 18s 609us/step\n",
      "Pred shape: (660000, 340)\n"
     ]
    },
    {
     "data": {
      "text/plain": [
       "0"
      ]
     },
     "execution_count": 48,
     "metadata": {},
     "output_type": "execute_result"
    },
    {
     "name": "stdout",
     "output_type": "stream",
     "text": [
      "30000/30000 [==============================] - 18s 596us/step\n",
      "Pred shape: (690000, 340)\n"
     ]
    },
    {
     "data": {
      "text/plain": [
       "0"
      ]
     },
     "execution_count": 48,
     "metadata": {},
     "output_type": "execute_result"
    },
    {
     "name": "stdout",
     "output_type": "stream",
     "text": [
      "30000/30000 [==============================] - 18s 614us/step\n",
      "Pred shape: (720000, 340)\n"
     ]
    },
    {
     "data": {
      "text/plain": [
       "0"
      ]
     },
     "execution_count": 48,
     "metadata": {},
     "output_type": "execute_result"
    },
    {
     "name": "stdout",
     "output_type": "stream",
     "text": [
      "30000/30000 [==============================] - 18s 597us/step\n",
      "Pred shape: (750000, 340)\n"
     ]
    },
    {
     "data": {
      "text/plain": [
       "0"
      ]
     },
     "execution_count": 48,
     "metadata": {},
     "output_type": "execute_result"
    },
    {
     "name": "stdout",
     "output_type": "stream",
     "text": [
      "30000/30000 [==============================] - 18s 603us/step\n",
      "Pred shape: (780000, 340)\n"
     ]
    },
    {
     "data": {
      "text/plain": [
       "0"
      ]
     },
     "execution_count": 48,
     "metadata": {},
     "output_type": "execute_result"
    },
    {
     "name": "stdout",
     "output_type": "stream",
     "text": [
      "30000/30000 [==============================] - 18s 600us/step\n",
      "Pred shape: (810000, 340)\n"
     ]
    },
    {
     "data": {
      "text/plain": [
       "0"
      ]
     },
     "execution_count": 48,
     "metadata": {},
     "output_type": "execute_result"
    },
    {
     "name": "stdout",
     "output_type": "stream",
     "text": [
      "30000/30000 [==============================] - 18s 604us/step\n",
      "Pred shape: (840000, 340)\n"
     ]
    },
    {
     "data": {
      "text/plain": [
       "0"
      ]
     },
     "execution_count": 48,
     "metadata": {},
     "output_type": "execute_result"
    },
    {
     "name": "stdout",
     "output_type": "stream",
     "text": [
      "30000/30000 [==============================] - 18s 598us/step\n",
      "Pred shape: (870000, 340)\n"
     ]
    },
    {
     "data": {
      "text/plain": [
       "0"
      ]
     },
     "execution_count": 48,
     "metadata": {},
     "output_type": "execute_result"
    },
    {
     "name": "stdout",
     "output_type": "stream",
     "text": [
      "30000/30000 [==============================] - 18s 596us/step\n",
      "Pred shape: (900000, 340)\n"
     ]
    },
    {
     "data": {
      "text/plain": [
       "0"
      ]
     },
     "execution_count": 48,
     "metadata": {},
     "output_type": "execute_result"
    },
    {
     "name": "stdout",
     "output_type": "stream",
     "text": [
      "30000/30000 [==============================] - 19s 618us/step\n",
      "Pred shape: (930000, 340)\n"
     ]
    },
    {
     "data": {
      "text/plain": [
       "0"
      ]
     },
     "execution_count": 48,
     "metadata": {},
     "output_type": "execute_result"
    },
    {
     "name": "stdout",
     "output_type": "stream",
     "text": [
      "30000/30000 [==============================] - 18s 613us/step\n",
      "Pred shape: (960000, 340)\n"
     ]
    },
    {
     "data": {
      "text/plain": [
       "0"
      ]
     },
     "execution_count": 48,
     "metadata": {},
     "output_type": "execute_result"
    },
    {
     "name": "stdout",
     "output_type": "stream",
     "text": [
      "30000/30000 [==============================] - ETA:  - 18s 604us/step\n",
      "Pred shape: (990000, 340)\n"
     ]
    },
    {
     "data": {
      "text/plain": [
       "0"
      ]
     },
     "execution_count": 48,
     "metadata": {},
     "output_type": "execute_result"
    },
    {
     "name": "stdout",
     "output_type": "stream",
     "text": [
      "30000/30000 [==============================] - 18s 603us/step\n",
      "Pred shape: (1020000, 340)\n"
     ]
    },
    {
     "data": {
      "text/plain": [
       "0"
      ]
     },
     "execution_count": 48,
     "metadata": {},
     "output_type": "execute_result"
    },
    {
     "name": "stdout",
     "output_type": "stream",
     "text": [
      "30000/30000 [==============================] - 18s 597us/step\n",
      "Pred shape: (1050000, 340)\n"
     ]
    },
    {
     "data": {
      "text/plain": [
       "0"
      ]
     },
     "execution_count": 48,
     "metadata": {},
     "output_type": "execute_result"
    },
    {
     "name": "stdout",
     "output_type": "stream",
     "text": [
      "30000/30000 [==============================] - 18s 598us/step\n",
      "Pred shape: (1080000, 340)\n"
     ]
    },
    {
     "data": {
      "text/plain": [
       "0"
      ]
     },
     "execution_count": 48,
     "metadata": {},
     "output_type": "execute_result"
    },
    {
     "name": "stdout",
     "output_type": "stream",
     "text": [
      "30000/30000 [==============================] - 18s 610us/step\n",
      "Pred shape: (1110000, 340)\n"
     ]
    },
    {
     "data": {
      "text/plain": [
       "0"
      ]
     },
     "execution_count": 48,
     "metadata": {},
     "output_type": "execute_result"
    },
    {
     "name": "stdout",
     "output_type": "stream",
     "text": [
      "30000/30000 [==============================] - 18s 600us/step\n",
      "Pred shape: (1140000, 340)\n"
     ]
    },
    {
     "data": {
      "text/plain": [
       "0"
      ]
     },
     "execution_count": 48,
     "metadata": {},
     "output_type": "execute_result"
    },
    {
     "name": "stdout",
     "output_type": "stream",
     "text": [
      "30000/30000 [==============================] - 18s 599us/step\n",
      "Pred shape: (1170000, 340)\n"
     ]
    },
    {
     "data": {
      "text/plain": [
       "0"
      ]
     },
     "execution_count": 48,
     "metadata": {},
     "output_type": "execute_result"
    },
    {
     "name": "stdout",
     "output_type": "stream",
     "text": [
      "30000/30000 [==============================] - 18s 600us/step\n",
      "Pred shape: (1200000, 340)\n"
     ]
    },
    {
     "data": {
      "text/plain": [
       "0"
      ]
     },
     "execution_count": 48,
     "metadata": {},
     "output_type": "execute_result"
    },
    {
     "name": "stdout",
     "output_type": "stream",
     "text": [
      "30000/30000 [==============================] - 18s 602us/step\n",
      "Pred shape: (1230000, 340)\n"
     ]
    },
    {
     "data": {
      "text/plain": [
       "0"
      ]
     },
     "execution_count": 48,
     "metadata": {},
     "output_type": "execute_result"
    },
    {
     "name": "stdout",
     "output_type": "stream",
     "text": [
      "30000/30000 [==============================] - 18s 599us/step\n",
      "Pred shape: (1260000, 340)\n"
     ]
    },
    {
     "data": {
      "text/plain": [
       "0"
      ]
     },
     "execution_count": 48,
     "metadata": {},
     "output_type": "execute_result"
    },
    {
     "name": "stdout",
     "output_type": "stream",
     "text": [
      "30000/30000 [==============================] - 18s 610us/step\n",
      "Pred shape: (1290000, 340)\n"
     ]
    },
    {
     "data": {
      "text/plain": [
       "0"
      ]
     },
     "execution_count": 48,
     "metadata": {},
     "output_type": "execute_result"
    },
    {
     "name": "stdout",
     "output_type": "stream",
     "text": [
      "30000/30000 [==============================] - 18s 599us/step\n",
      "Pred shape: (1320000, 340)\n"
     ]
    },
    {
     "data": {
      "text/plain": [
       "0"
      ]
     },
     "execution_count": 48,
     "metadata": {},
     "output_type": "execute_result"
    },
    {
     "name": "stdout",
     "output_type": "stream",
     "text": [
      "30000/30000 [==============================] - 18s 596us/step\n",
      "Pred shape: (1350000, 340)\n"
     ]
    },
    {
     "data": {
      "text/plain": [
       "0"
      ]
     },
     "execution_count": 48,
     "metadata": {},
     "output_type": "execute_result"
    },
    {
     "name": "stdout",
     "output_type": "stream",
     "text": [
      "30000/30000 [==============================] - 18s 603us/step\n",
      "Pred shape: (1380000, 340)\n"
     ]
    },
    {
     "data": {
      "text/plain": [
       "0"
      ]
     },
     "execution_count": 48,
     "metadata": {},
     "output_type": "execute_result"
    },
    {
     "name": "stdout",
     "output_type": "stream",
     "text": [
      "30000/30000 [==============================] - 18s 595us/step\n",
      "Pred shape: (1410000, 340)\n"
     ]
    },
    {
     "data": {
      "text/plain": [
       "0"
      ]
     },
     "execution_count": 48,
     "metadata": {},
     "output_type": "execute_result"
    },
    {
     "name": "stdout",
     "output_type": "stream",
     "text": [
      "30000/30000 [==============================] - 18s 597us/step\n",
      "Pred shape: (1440000, 340)\n"
     ]
    },
    {
     "data": {
      "text/plain": [
       "0"
      ]
     },
     "execution_count": 48,
     "metadata": {},
     "output_type": "execute_result"
    },
    {
     "name": "stdout",
     "output_type": "stream",
     "text": [
      "30000/30000 [==============================] - 18s 597us/step\n",
      "Pred shape: (1470000, 340)\n"
     ]
    },
    {
     "data": {
      "text/plain": [
       "0"
      ]
     },
     "execution_count": 48,
     "metadata": {},
     "output_type": "execute_result"
    },
    {
     "name": "stdout",
     "output_type": "stream",
     "text": [
      "30000/30000 [==============================] - 18s 596us/step\n",
      "Pred shape: (1500000, 340)\n"
     ]
    },
    {
     "data": {
      "text/plain": [
       "0"
      ]
     },
     "execution_count": 48,
     "metadata": {},
     "output_type": "execute_result"
    },
    {
     "name": "stdout",
     "output_type": "stream",
     "text": [
      "30000/30000 [==============================] - 18s 598us/step\n",
      "Pred shape: (1530000, 340)\n"
     ]
    },
    {
     "data": {
      "text/plain": [
       "0"
      ]
     },
     "execution_count": 48,
     "metadata": {},
     "output_type": "execute_result"
    },
    {
     "name": "stdout",
     "output_type": "stream",
     "text": [
      "30000/30000 [==============================] - 18s 604us/step\n",
      "Pred shape: (1560000, 340)\n"
     ]
    },
    {
     "data": {
      "text/plain": [
       "0"
      ]
     },
     "execution_count": 48,
     "metadata": {},
     "output_type": "execute_result"
    },
    {
     "name": "stdout",
     "output_type": "stream",
     "text": [
      "30000/30000 [==============================] - 18s 592us/step\n",
      "Pred shape: (1590000, 340)\n"
     ]
    },
    {
     "data": {
      "text/plain": [
       "0"
      ]
     },
     "execution_count": 48,
     "metadata": {},
     "output_type": "execute_result"
    },
    {
     "name": "stdout",
     "output_type": "stream",
     "text": [
      "30000/30000 [==============================] - 18s 598us/step\n",
      "Pred shape: (1620000, 340)\n"
     ]
    },
    {
     "data": {
      "text/plain": [
       "0"
      ]
     },
     "execution_count": 48,
     "metadata": {},
     "output_type": "execute_result"
    },
    {
     "name": "stdout",
     "output_type": "stream",
     "text": [
      "30000/30000 [==============================] - 18s 605us/step\n",
      "Pred shape: (1650000, 340)\n"
     ]
    },
    {
     "data": {
      "text/plain": [
       "0"
      ]
     },
     "execution_count": 48,
     "metadata": {},
     "output_type": "execute_result"
    },
    {
     "name": "stdout",
     "output_type": "stream",
     "text": [
      "30000/30000 [==============================] - 18s 607us/step\n",
      "Pred shape: (1680000, 340)\n"
     ]
    },
    {
     "data": {
      "text/plain": [
       "0"
      ]
     },
     "execution_count": 48,
     "metadata": {},
     "output_type": "execute_result"
    },
    {
     "name": "stdout",
     "output_type": "stream",
     "text": [
      "30000/30000 [==============================] - 18s 601us/step\n",
      "Pred shape: (1710000, 340)\n"
     ]
    },
    {
     "data": {
      "text/plain": [
       "0"
      ]
     },
     "execution_count": 48,
     "metadata": {},
     "output_type": "execute_result"
    },
    {
     "name": "stdout",
     "output_type": "stream",
     "text": [
      "30000/30000 [==============================] - 18s 598us/step\n",
      "Pred shape: (1740000, 340)\n"
     ]
    },
    {
     "data": {
      "text/plain": [
       "0"
      ]
     },
     "execution_count": 48,
     "metadata": {},
     "output_type": "execute_result"
    },
    {
     "name": "stdout",
     "output_type": "stream",
     "text": [
      "30000/30000 [==============================] - 18s 595us/step\n",
      "Pred shape: (1770000, 340)\n"
     ]
    },
    {
     "data": {
      "text/plain": [
       "0"
      ]
     },
     "execution_count": 48,
     "metadata": {},
     "output_type": "execute_result"
    },
    {
     "name": "stdout",
     "output_type": "stream",
     "text": [
      "30000/30000 [==============================] - 18s 603us/step\n",
      "Pred shape: (1800000, 340)\n"
     ]
    },
    {
     "data": {
      "text/plain": [
       "0"
      ]
     },
     "execution_count": 48,
     "metadata": {},
     "output_type": "execute_result"
    },
    {
     "name": "stdout",
     "output_type": "stream",
     "text": [
      "30000/30000 [==============================] - 18s 597us/step\n",
      "Pred shape: (1830000, 340)\n"
     ]
    },
    {
     "data": {
      "text/plain": [
       "0"
      ]
     },
     "execution_count": 48,
     "metadata": {},
     "output_type": "execute_result"
    },
    {
     "name": "stdout",
     "output_type": "stream",
     "text": [
      "30000/30000 [==============================] - 18s 606us/step\n",
      "Pred shape: (1860000, 340)\n"
     ]
    },
    {
     "data": {
      "text/plain": [
       "0"
      ]
     },
     "execution_count": 48,
     "metadata": {},
     "output_type": "execute_result"
    },
    {
     "name": "stdout",
     "output_type": "stream",
     "text": [
      "30000/30000 [==============================] - 18s 599us/step\n",
      "Pred shape: (1890000, 340)\n"
     ]
    },
    {
     "data": {
      "text/plain": [
       "0"
      ]
     },
     "execution_count": 48,
     "metadata": {},
     "output_type": "execute_result"
    },
    {
     "name": "stdout",
     "output_type": "stream",
     "text": [
      "30000/30000 [==============================] - 18s 597us/step\n",
      "Pred shape: (1920000, 340)\n"
     ]
    },
    {
     "data": {
      "text/plain": [
       "0"
      ]
     },
     "execution_count": 48,
     "metadata": {},
     "output_type": "execute_result"
    },
    {
     "name": "stdout",
     "output_type": "stream",
     "text": [
      "30000/30000 [==============================] - 18s 601us/step\n",
      "Pred shape: (1950000, 340)\n"
     ]
    },
    {
     "data": {
      "text/plain": [
       "0"
      ]
     },
     "execution_count": 48,
     "metadata": {},
     "output_type": "execute_result"
    },
    {
     "name": "stdout",
     "output_type": "stream",
     "text": [
      "30000/30000 [==============================] - 18s 596us/step\n",
      "Pred shape: (1980000, 340)\n"
     ]
    },
    {
     "data": {
      "text/plain": [
       "0"
      ]
     },
     "execution_count": 48,
     "metadata": {},
     "output_type": "execute_result"
    },
    {
     "name": "stdout",
     "output_type": "stream",
     "text": [
      "30000/30000 [==============================] - 18s 594us/step\n",
      "Pred shape: (2010000, 340)\n"
     ]
    },
    {
     "data": {
      "text/plain": [
       "0"
      ]
     },
     "execution_count": 48,
     "metadata": {},
     "output_type": "execute_result"
    },
    {
     "name": "stdout",
     "output_type": "stream",
     "text": [
      "30000/30000 [==============================] - 18s 597us/step\n",
      "Pred shape: (2040000, 340)\n"
     ]
    },
    {
     "data": {
      "text/plain": [
       "0"
      ]
     },
     "execution_count": 48,
     "metadata": {},
     "output_type": "execute_result"
    },
    {
     "name": "stdout",
     "output_type": "stream",
     "text": [
      "30000/30000 [==============================] - 18s 601us/step\n",
      "Pred shape: (2070000, 340)\n"
     ]
    },
    {
     "data": {
      "text/plain": [
       "0"
      ]
     },
     "execution_count": 48,
     "metadata": {},
     "output_type": "execute_result"
    },
    {
     "name": "stdout",
     "output_type": "stream",
     "text": [
      "30000/30000 [==============================] - 18s 612us/step\n",
      "Pred shape: (2100000, 340)\n"
     ]
    },
    {
     "data": {
      "text/plain": [
       "0"
      ]
     },
     "execution_count": 48,
     "metadata": {},
     "output_type": "execute_result"
    },
    {
     "name": "stdout",
     "output_type": "stream",
     "text": [
      "30000/30000 [==============================] - 18s 599us/step\n",
      "Pred shape: (2130000, 340)\n"
     ]
    },
    {
     "data": {
      "text/plain": [
       "0"
      ]
     },
     "execution_count": 48,
     "metadata": {},
     "output_type": "execute_result"
    },
    {
     "name": "stdout",
     "output_type": "stream",
     "text": [
      "30000/30000 [==============================] - 18s 602us/step\n",
      "Pred shape: (2160000, 340)\n"
     ]
    },
    {
     "data": {
      "text/plain": [
       "0"
      ]
     },
     "execution_count": 48,
     "metadata": {},
     "output_type": "execute_result"
    },
    {
     "name": "stdout",
     "output_type": "stream",
     "text": [
      "30000/30000 [==============================] - 18s 603us/step\n",
      "Pred shape: (2190000, 340)\n"
     ]
    },
    {
     "data": {
      "text/plain": [
       "0"
      ]
     },
     "execution_count": 48,
     "metadata": {},
     "output_type": "execute_result"
    },
    {
     "name": "stdout",
     "output_type": "stream",
     "text": [
      "30000/30000 [==============================] - 18s 598us/step\n",
      "Pred shape: (2220000, 340)\n"
     ]
    },
    {
     "data": {
      "text/plain": [
       "0"
      ]
     },
     "execution_count": 48,
     "metadata": {},
     "output_type": "execute_result"
    },
    {
     "name": "stdout",
     "output_type": "stream",
     "text": [
      "30000/30000 [==============================] - 18s 595us/step\n",
      "Pred shape: (2250000, 340)\n"
     ]
    },
    {
     "data": {
      "text/plain": [
       "0"
      ]
     },
     "execution_count": 48,
     "metadata": {},
     "output_type": "execute_result"
    },
    {
     "name": "stdout",
     "output_type": "stream",
     "text": [
      "30000/30000 [==============================] - 18s 595us/step\n",
      "Pred shape: (2280000, 340)\n"
     ]
    },
    {
     "data": {
      "text/plain": [
       "0"
      ]
     },
     "execution_count": 48,
     "metadata": {},
     "output_type": "execute_result"
    },
    {
     "name": "stdout",
     "output_type": "stream",
     "text": [
      "30000/30000 [==============================] - 18s 600us/step\n",
      "Pred shape: (2310000, 340)\n"
     ]
    },
    {
     "data": {
      "text/plain": [
       "0"
      ]
     },
     "execution_count": 48,
     "metadata": {},
     "output_type": "execute_result"
    },
    {
     "name": "stdout",
     "output_type": "stream",
     "text": [
      "30000/30000 [==============================] - 18s 601us/step\n",
      "Pred shape: (2340000, 340)\n"
     ]
    },
    {
     "data": {
      "text/plain": [
       "0"
      ]
     },
     "execution_count": 48,
     "metadata": {},
     "output_type": "execute_result"
    },
    {
     "name": "stdout",
     "output_type": "stream",
     "text": [
      "30000/30000 [==============================] - 18s 598us/step\n",
      "Pred shape: (2370000, 340)\n"
     ]
    },
    {
     "data": {
      "text/plain": [
       "0"
      ]
     },
     "execution_count": 48,
     "metadata": {},
     "output_type": "execute_result"
    },
    {
     "name": "stdout",
     "output_type": "stream",
     "text": [
      "30000/30000 [==============================] - 18s 602us/step\n",
      "Pred shape: (2400000, 340)\n"
     ]
    },
    {
     "data": {
      "text/plain": [
       "0"
      ]
     },
     "execution_count": 48,
     "metadata": {},
     "output_type": "execute_result"
    },
    {
     "name": "stdout",
     "output_type": "stream",
     "text": [
      "30000/30000 [==============================] - 18s 607us/step\n",
      "Pred shape: (2430000, 340)\n"
     ]
    },
    {
     "data": {
      "text/plain": [
       "0"
      ]
     },
     "execution_count": 48,
     "metadata": {},
     "output_type": "execute_result"
    },
    {
     "name": "stdout",
     "output_type": "stream",
     "text": [
      "30000/30000 [==============================] - 18s 598us/step\n",
      "Pred shape: (2460000, 340)\n"
     ]
    },
    {
     "data": {
      "text/plain": [
       "0"
      ]
     },
     "execution_count": 48,
     "metadata": {},
     "output_type": "execute_result"
    },
    {
     "name": "stdout",
     "output_type": "stream",
     "text": [
      "26554/26554 [==============================] - 16s 617us/step\n",
      "Pred shape: (2486554, 340)\n"
     ]
    },
    {
     "data": {
      "text/plain": [
       "0"
      ]
     },
     "execution_count": 48,
     "metadata": {},
     "output_type": "execute_result"
    },
    {
     "name": "stdout",
     "output_type": "stream",
     "text": [
      "2486554\n",
      "Map3: 0.892\n"
     ]
    }
   ],
   "source": [
    "# run the validation\n",
    "import gc\n",
    "# gpu_model.load_weights('xception_model.h5') # best run - otherwise choose xception_model_last.h5\n",
    "gpu_model.load_weights('xception_model_last.h5')\n",
    "valid_batch_size = 30000\n",
    "valid_data = pd.read_csv(os.path.join('shuffled_train_20/train_k19.csv.gz'))\n",
    "\n",
    "num_batch = np.ceil(len(valid_data)/valid_batch_size) # can override to reduce the number of validation\n",
    "counter = 0\n",
    "nrows = 0\n",
    "pred_valid_array = []\n",
    "\n",
    "while True:\n",
    "    batch_files = valid_data[valid_batch_size*counter:valid_batch_size*(counter+1)]\n",
    "    \n",
    "    x_valid = df_to_image_array_xd(batch_files, size)\n",
    "    p_valid = gpu_model.predict(x_valid, batch_size=1024, verbose=1)\n",
    "    \n",
    "    if counter == 0:\n",
    "        pred_valid_array = p_valid\n",
    "    else:\n",
    "        pred_valid_array = np.concatenate((pred_valid_array, p_valid), axis = 0)\n",
    "    print('Pred shape: {}'.format(pred_valid_array.shape))\n",
    "    \n",
    "    x_valid = []\n",
    "    gc.collect()\n",
    "    \n",
    "    counter += 1\n",
    "    nrows += len(batch_files)\n",
    "    if counter >= num_batch:\n",
    "            break\n",
    "\n",
    "print(nrows)\n",
    "map3 = mapk(valid_data[['y']].values, preds2catids(pred_valid_array).values)\n",
    "print('Map3: {:.3f}'.format(map3))"
   ]
  },
  {
   "cell_type": "code",
   "execution_count": 49,
   "metadata": {},
   "outputs": [
    {
     "name": "stderr",
     "output_type": "stream",
     "text": [
      "/home/wilan/.local/lib/python3.6/site-packages/ipykernel_launcher.py:228: SettingWithCopyWarning: \n",
      "A value is trying to be set on a copy of a slice from a DataFrame.\n",
      "Try using .loc[row_indexer,col_indexer] = value instead\n",
      "\n",
      "See the caveats in the documentation: http://pandas.pydata.org/pandas-docs/stable/indexing.html#indexing-view-versus-copy\n"
     ]
    },
    {
     "name": "stdout",
     "output_type": "stream",
     "text": [
      "10000/10000 [==============================] - 7s 688us/step\n",
      "Pred shape: (10000, 340)\n"
     ]
    },
    {
     "data": {
      "text/plain": [
       "0"
      ]
     },
     "execution_count": 49,
     "metadata": {},
     "output_type": "execute_result"
    },
    {
     "name": "stdout",
     "output_type": "stream",
     "text": [
      "10000/10000 [==============================] - 7s 678us/step\n",
      "Pred shape: (20000, 340)\n"
     ]
    },
    {
     "data": {
      "text/plain": [
       "0"
      ]
     },
     "execution_count": 49,
     "metadata": {},
     "output_type": "execute_result"
    },
    {
     "name": "stdout",
     "output_type": "stream",
     "text": [
      "10000/10000 [==============================] - 7s 676us/step\n",
      "Pred shape: (30000, 340)\n"
     ]
    },
    {
     "data": {
      "text/plain": [
       "0"
      ]
     },
     "execution_count": 49,
     "metadata": {},
     "output_type": "execute_result"
    },
    {
     "name": "stdout",
     "output_type": "stream",
     "text": [
      "10000/10000 [==============================] - 7s 684us/step\n",
      "Pred shape: (40000, 340)\n"
     ]
    },
    {
     "data": {
      "text/plain": [
       "0"
      ]
     },
     "execution_count": 49,
     "metadata": {},
     "output_type": "execute_result"
    },
    {
     "name": "stdout",
     "output_type": "stream",
     "text": [
      "10000/10000 [==============================] - 7s 667us/step\n",
      "Pred shape: (50000, 340)\n"
     ]
    },
    {
     "data": {
      "text/plain": [
       "0"
      ]
     },
     "execution_count": 49,
     "metadata": {},
     "output_type": "execute_result"
    },
    {
     "name": "stdout",
     "output_type": "stream",
     "text": [
      "10000/10000 [==============================] - 7s 670us/step\n",
      "Pred shape: (60000, 340)\n"
     ]
    },
    {
     "data": {
      "text/plain": [
       "0"
      ]
     },
     "execution_count": 49,
     "metadata": {},
     "output_type": "execute_result"
    },
    {
     "name": "stdout",
     "output_type": "stream",
     "text": [
      "10000/10000 [==============================] - 7s 669us/step\n",
      "Pred shape: (70000, 340)\n"
     ]
    },
    {
     "data": {
      "text/plain": [
       "0"
      ]
     },
     "execution_count": 49,
     "metadata": {},
     "output_type": "execute_result"
    },
    {
     "name": "stdout",
     "output_type": "stream",
     "text": [
      "10000/10000 [==============================] - 7s 679us/step\n",
      "Pred shape: (80000, 340)\n"
     ]
    },
    {
     "data": {
      "text/plain": [
       "0"
      ]
     },
     "execution_count": 49,
     "metadata": {},
     "output_type": "execute_result"
    },
    {
     "name": "stdout",
     "output_type": "stream",
     "text": [
      "10000/10000 [==============================] - 7s 663us/step\n",
      "Pred shape: (90000, 340)\n"
     ]
    },
    {
     "data": {
      "text/plain": [
       "0"
      ]
     },
     "execution_count": 49,
     "metadata": {},
     "output_type": "execute_result"
    },
    {
     "name": "stdout",
     "output_type": "stream",
     "text": [
      "10000/10000 [==============================] - 7s 671us/step\n",
      "Pred shape: (100000, 340)\n"
     ]
    },
    {
     "data": {
      "text/plain": [
       "0"
      ]
     },
     "execution_count": 49,
     "metadata": {},
     "output_type": "execute_result"
    },
    {
     "name": "stdout",
     "output_type": "stream",
     "text": [
      "10000/10000 [==============================] - 7s 669us/step\n",
      "Pred shape: (110000, 340)\n"
     ]
    },
    {
     "data": {
      "text/plain": [
       "0"
      ]
     },
     "execution_count": 49,
     "metadata": {},
     "output_type": "execute_result"
    },
    {
     "name": "stdout",
     "output_type": "stream",
     "text": [
      "2199/2199 [==============================] - 1s 677us/step\n",
      "Pred shape: (112199, 340)\n"
     ]
    },
    {
     "data": {
      "text/plain": [
       "0"
      ]
     },
     "execution_count": 49,
     "metadata": {},
     "output_type": "execute_result"
    },
    {
     "name": "stdout",
     "output_type": "stream",
     "text": [
      "112199\n"
     ]
    }
   ],
   "source": [
    "test_batch_size = 10000\n",
    "test = pd.read_csv(os.path.join('test_simplified.csv'))\n",
    "\n",
    "num_batch = np.ceil(len(test)/test_batch_size)\n",
    "counter = 0\n",
    "nrows = 0\n",
    "pred_array = []\n",
    "\n",
    "while True:\n",
    "    batch_files = test[test_batch_size*counter:test_batch_size*(counter+1)]\n",
    "    \n",
    "    x_test = df_to_image_array_xd(batch_files, size)\n",
    "    p_test = gpu_model.predict(x_test, batch_size=256, verbose=1)\n",
    "    \n",
    "    if counter == 0:\n",
    "        pred_array = p_test\n",
    "    else:\n",
    "        pred_array = np.concatenate((pred_array, p_test), axis = 0)\n",
    "    print('Pred shape: {}'.format(pred_array.shape))\n",
    "    \n",
    "    x_valid = []\n",
    "    gc.collect()\n",
    "    \n",
    "    counter += 1\n",
    "    nrows += len(batch_files)\n",
    "    if counter >= num_batch:\n",
    "            break\n",
    "\n",
    "print(nrows)"
   ]
  },
  {
   "cell_type": "code",
   "execution_count": 51,
   "metadata": {},
   "outputs": [
    {
     "data": {
      "text/html": [
       "<div>\n",
       "<style scoped>\n",
       "    .dataframe tbody tr th:only-of-type {\n",
       "        vertical-align: middle;\n",
       "    }\n",
       "\n",
       "    .dataframe tbody tr th {\n",
       "        vertical-align: top;\n",
       "    }\n",
       "\n",
       "    .dataframe thead th {\n",
       "        text-align: right;\n",
       "    }\n",
       "</style>\n",
       "<table border=\"1\" class=\"dataframe\">\n",
       "  <thead>\n",
       "    <tr style=\"text-align: right;\">\n",
       "      <th></th>\n",
       "      <th>a</th>\n",
       "      <th>b</th>\n",
       "      <th>c</th>\n",
       "    </tr>\n",
       "  </thead>\n",
       "  <tbody>\n",
       "    <tr>\n",
       "      <th>0</th>\n",
       "      <td>234</td>\n",
       "      <td>281</td>\n",
       "      <td>29</td>\n",
       "    </tr>\n",
       "    <tr>\n",
       "      <th>1</th>\n",
       "      <td>144</td>\n",
       "      <td>36</td>\n",
       "      <td>226</td>\n",
       "    </tr>\n",
       "    <tr>\n",
       "      <th>2</th>\n",
       "      <td>305</td>\n",
       "      <td>62</td>\n",
       "      <td>110</td>\n",
       "    </tr>\n",
       "    <tr>\n",
       "      <th>3</th>\n",
       "      <td>187</td>\n",
       "      <td>111</td>\n",
       "      <td>82</td>\n",
       "    </tr>\n",
       "    <tr>\n",
       "      <th>4</th>\n",
       "      <td>113</td>\n",
       "      <td>56</td>\n",
       "      <td>112</td>\n",
       "    </tr>\n",
       "  </tbody>\n",
       "</table>\n",
       "</div>"
      ],
      "text/plain": [
       "     a    b    c\n",
       "0  234  281   29\n",
       "1  144   36  226\n",
       "2  305   62  110\n",
       "3  187  111   82\n",
       "4  113   56  112"
      ]
     },
     "execution_count": 51,
     "metadata": {},
     "output_type": "execute_result"
    },
    {
     "data": {
      "text/plain": [
       "(112199, 3)"
      ]
     },
     "execution_count": 51,
     "metadata": {},
     "output_type": "execute_result"
    },
    {
     "data": {
      "text/html": [
       "<div>\n",
       "<style scoped>\n",
       "    .dataframe tbody tr th:only-of-type {\n",
       "        vertical-align: middle;\n",
       "    }\n",
       "\n",
       "    .dataframe tbody tr th {\n",
       "        vertical-align: top;\n",
       "    }\n",
       "\n",
       "    .dataframe thead th {\n",
       "        text-align: right;\n",
       "    }\n",
       "</style>\n",
       "<table border=\"1\" class=\"dataframe\">\n",
       "  <thead>\n",
       "    <tr style=\"text-align: right;\">\n",
       "      <th></th>\n",
       "      <th>a</th>\n",
       "      <th>b</th>\n",
       "      <th>c</th>\n",
       "    </tr>\n",
       "  </thead>\n",
       "  <tbody>\n",
       "    <tr>\n",
       "      <th>0</th>\n",
       "      <td>radio</td>\n",
       "      <td>stereo</td>\n",
       "      <td>binoculars</td>\n",
       "    </tr>\n",
       "    <tr>\n",
       "      <th>1</th>\n",
       "      <td>hockey_puck</td>\n",
       "      <td>bottlecap</td>\n",
       "      <td>pool</td>\n",
       "    </tr>\n",
       "    <tr>\n",
       "      <th>2</th>\n",
       "      <td>The_Great_Wall_of_China</td>\n",
       "      <td>castle</td>\n",
       "      <td>fence</td>\n",
       "    </tr>\n",
       "    <tr>\n",
       "      <th>3</th>\n",
       "      <td>mountain</td>\n",
       "      <td>finger</td>\n",
       "      <td>crayon</td>\n",
       "    </tr>\n",
       "    <tr>\n",
       "      <th>4</th>\n",
       "      <td>fireplace</td>\n",
       "      <td>campfire</td>\n",
       "      <td>fire_hydrant</td>\n",
       "    </tr>\n",
       "  </tbody>\n",
       "</table>\n",
       "</div>"
      ],
      "text/plain": [
       "                         a          b             c\n",
       "0                    radio     stereo    binoculars\n",
       "1              hockey_puck  bottlecap          pool\n",
       "2  The_Great_Wall_of_China     castle         fence\n",
       "3                 mountain     finger        crayon\n",
       "4                fireplace   campfire  fire_hydrant"
      ]
     },
     "execution_count": 51,
     "metadata": {},
     "output_type": "execute_result"
    },
    {
     "data": {
      "text/plain": [
       "(112199, 3)"
      ]
     },
     "execution_count": 51,
     "metadata": {},
     "output_type": "execute_result"
    }
   ],
   "source": [
    "# standard code from kernel to convert to submission file\n",
    "top3 = preds2catids(pred_array)\n",
    "top3.head()\n",
    "top3.shape\n",
    "\n",
    "def list_all_categories():\n",
    "    files = os.listdir(os.path.join(INPUT_DIR, 'train_simplified'))\n",
    "    return sorted([f2cat(f) for f in files], key=str.lower)\n",
    "\n",
    "cats = list_all_categories()\n",
    "id2cat = {k: cat.replace(' ', '_') for k, cat in enumerate(cats)}\n",
    "top3cats = top3.replace(id2cat)\n",
    "top3cats.head()\n",
    "top3cats.shape"
   ]
  },
  {
   "cell_type": "code",
   "execution_count": 50,
   "metadata": {},
   "outputs": [
    {
     "data": {
      "text/html": [
       "<div>\n",
       "<style scoped>\n",
       "    .dataframe tbody tr th:only-of-type {\n",
       "        vertical-align: middle;\n",
       "    }\n",
       "\n",
       "    .dataframe tbody tr th {\n",
       "        vertical-align: top;\n",
       "    }\n",
       "\n",
       "    .dataframe thead th {\n",
       "        text-align: right;\n",
       "    }\n",
       "</style>\n",
       "<table border=\"1\" class=\"dataframe\">\n",
       "  <thead>\n",
       "    <tr style=\"text-align: right;\">\n",
       "      <th></th>\n",
       "      <th>key_id</th>\n",
       "      <th>countrycode</th>\n",
       "      <th>drawing</th>\n",
       "      <th>word</th>\n",
       "    </tr>\n",
       "  </thead>\n",
       "  <tbody>\n",
       "    <tr>\n",
       "      <th>0</th>\n",
       "      <td>9000003627287624</td>\n",
       "      <td>DE</td>\n",
       "      <td>[[[17, 18, 20, 25, 137, 174, 242, 249, 251, 25...</td>\n",
       "      <td>radio 0.8984669 stereo 0.10153251 binoculars 2...</td>\n",
       "    </tr>\n",
       "    <tr>\n",
       "      <th>1</th>\n",
       "      <td>9000010688666847</td>\n",
       "      <td>UA</td>\n",
       "      <td>[[[174, 145, 106, 38, 11, 4, 4, 15, 29, 78, 16...</td>\n",
       "      <td>hockey_puck 0.9542305 bottlecap 0.03710187 poo...</td>\n",
       "    </tr>\n",
       "    <tr>\n",
       "      <th>2</th>\n",
       "      <td>9000023642890129</td>\n",
       "      <td>BG</td>\n",
       "      <td>[[[0, 12, 14, 17, 16, 24, 55, 57, 60, 79, 82, ...</td>\n",
       "      <td>The_Great_Wall_of_China 0.9422603 castle 0.055...</td>\n",
       "    </tr>\n",
       "    <tr>\n",
       "      <th>3</th>\n",
       "      <td>9000038588854897</td>\n",
       "      <td>US</td>\n",
       "      <td>[[[0, 9, 23, 40, 54, 60, 81, 105, 123, 167, 20...</td>\n",
       "      <td>mountain 0.99999714 crayon 6.417032e-07 finger...</td>\n",
       "    </tr>\n",
       "    <tr>\n",
       "      <th>4</th>\n",
       "      <td>9000052667981386</td>\n",
       "      <td>AR</td>\n",
       "      <td>[[[87, 82, 71, 63, 66, 92, 96, 95], [220, 218,...</td>\n",
       "      <td>fireplace 0.58886385 campfire 0.4010205 fire_h...</td>\n",
       "    </tr>\n",
       "  </tbody>\n",
       "</table>\n",
       "</div>"
      ],
      "text/plain": [
       "             key_id countrycode  \\\n",
       "0  9000003627287624          DE   \n",
       "1  9000010688666847          UA   \n",
       "2  9000023642890129          BG   \n",
       "3  9000038588854897          US   \n",
       "4  9000052667981386          AR   \n",
       "\n",
       "                                             drawing  \\\n",
       "0  [[[17, 18, 20, 25, 137, 174, 242, 249, 251, 25...   \n",
       "1  [[[174, 145, 106, 38, 11, 4, 4, 15, 29, 78, 16...   \n",
       "2  [[[0, 12, 14, 17, 16, 24, 55, 57, 60, 79, 82, ...   \n",
       "3  [[[0, 9, 23, 40, 54, 60, 81, 105, 123, 167, 20...   \n",
       "4  [[[87, 82, 71, 63, 66, 92, 96, 95], [220, 218,...   \n",
       "\n",
       "                                                word  \n",
       "0  radio 0.8984669 stereo 0.10153251 binoculars 2...  \n",
       "1  hockey_puck 0.9542305 bottlecap 0.03710187 poo...  \n",
       "2  The_Great_Wall_of_China 0.9422603 castle 0.055...  \n",
       "3  mountain 0.99999714 crayon 6.417032e-07 finger...  \n",
       "4  fireplace 0.58886385 campfire 0.4010205 fire_h...  "
      ]
     },
     "execution_count": 50,
     "metadata": {},
     "output_type": "execute_result"
    }
   ],
   "source": [
    "### This section is for ensemble output only\n",
    "def preds2catids_pr(predictions, k=5):\n",
    "    topk = pd.DataFrame(np.argsort(-predictions, axis=1)[:, :k], columns=[chr(ord('a')+x) for x in range(k)])\n",
    "    \n",
    "    cats = list_all_categories()\n",
    "    id2cat = {k: cat.replace(' ', '_') for k, cat in enumerate(cats)}\n",
    "    topcats = topk.replace(id2cat)\n",
    "    \n",
    "    p_pr = pd.DataFrame(-np.sort(-predictions, axis=1)[:, :k])\n",
    "    p_all = pd.concat([topcats, p_pr], axis=1)\n",
    "    \n",
    "    # construct the word\n",
    "    p_all['word'] = \"\"\n",
    "    \n",
    "    for l in range(k):\n",
    "        p_all['word'] += (p_all[chr(ord('a')+l)] + \" \" + p_all[l].astype(str) + \" \")\n",
    "    \n",
    "    # reuse the test CSV for ids\n",
    "    test_df = pd.read_csv(os.path.join('test_simplified.csv'))\n",
    "    test_df['word'] = p_all['word']\n",
    "    \n",
    "    return test_df \n",
    "\n",
    "x = preds2catids_pr(pred_array)\n",
    "x.head()\n",
    "\n",
    "# generate the top 5 pr CSV\n",
    "x[['key_id', 'word']].to_csv('xception128_top5_last.csv', index = False)"
   ]
  },
  {
   "cell_type": "code",
   "execution_count": 52,
   "metadata": {},
   "outputs": [
    {
     "data": {
      "text/html": [
       "<div>\n",
       "<style scoped>\n",
       "    .dataframe tbody tr th:only-of-type {\n",
       "        vertical-align: middle;\n",
       "    }\n",
       "\n",
       "    .dataframe tbody tr th {\n",
       "        vertical-align: top;\n",
       "    }\n",
       "\n",
       "    .dataframe thead th {\n",
       "        text-align: right;\n",
       "    }\n",
       "</style>\n",
       "<table border=\"1\" class=\"dataframe\">\n",
       "  <thead>\n",
       "    <tr style=\"text-align: right;\">\n",
       "      <th></th>\n",
       "      <th>key_id</th>\n",
       "      <th>word</th>\n",
       "    </tr>\n",
       "  </thead>\n",
       "  <tbody>\n",
       "    <tr>\n",
       "      <th>0</th>\n",
       "      <td>9000003627287624</td>\n",
       "      <td>radio stereo binoculars</td>\n",
       "    </tr>\n",
       "    <tr>\n",
       "      <th>1</th>\n",
       "      <td>9000010688666847</td>\n",
       "      <td>hockey_puck bottlecap pool</td>\n",
       "    </tr>\n",
       "    <tr>\n",
       "      <th>2</th>\n",
       "      <td>9000023642890129</td>\n",
       "      <td>The_Great_Wall_of_China castle fence</td>\n",
       "    </tr>\n",
       "    <tr>\n",
       "      <th>3</th>\n",
       "      <td>9000038588854897</td>\n",
       "      <td>mountain finger crayon</td>\n",
       "    </tr>\n",
       "    <tr>\n",
       "      <th>4</th>\n",
       "      <td>9000052667981386</td>\n",
       "      <td>fireplace campfire fire_hydrant</td>\n",
       "    </tr>\n",
       "  </tbody>\n",
       "</table>\n",
       "</div>"
      ],
      "text/plain": [
       "  ...\n",
       "0 ...\n",
       "1 ...\n",
       "2 ...\n",
       "3 ...\n",
       "4 ...\n",
       "\n",
       "[5 rows x 2 columns]"
      ]
     },
     "execution_count": 52,
     "metadata": {},
     "output_type": "execute_result"
    },
    {
     "data": {
      "text/plain": [
       "(112199, 2)"
      ]
     },
     "execution_count": 52,
     "metadata": {},
     "output_type": "execute_result"
    }
   ],
   "source": [
    "test['word'] = top3cats['a'] + ' ' + top3cats['b'] + ' ' + top3cats['c']\n",
    "submission = test[['key_id', 'word']]\n",
    "submission.to_csv('benchmark_submission_map3_{}_v3_ens.csv'.format(int(map3 * 10**4)), index=False)\n",
    "submission.head()\n",
    "submission.shape"
   ]
  },
  {
   "cell_type": "markdown",
   "metadata": {},
   "source": [
    "# Xception 256"
   ]
  },
  {
   "cell_type": "code",
   "execution_count": 51,
   "metadata": {},
   "outputs": [
    {
     "name": "stdout",
     "output_type": "stream",
     "text": [
      "__________________________________________________________________________________________________\n",
      "Layer (type)                    Output Shape         Param #     Connected to                     \n",
      "==================================================================================================\n",
      "input_3 (InputLayer)            (None, 256, 256, 3)  0                                            \n",
      "__________________________________________________________________________________________________\n",
      "lambda_5 (Lambda)               (None, 256, 256, 3)  0           input_3[0][0]                    \n",
      "__________________________________________________________________________________________________\n",
      "lambda_6 (Lambda)               (None, 256, 256, 3)  0           input_3[0][0]                    \n",
      "__________________________________________________________________________________________________\n",
      "model_5 (Model)                 (None, 340)          21558140    lambda_5[0][0]                   \n",
      "                                                                 lambda_6[0][0]                   \n",
      "__________________________________________________________________________________________________\n",
      "dense_3 (Concatenate)           (None, 340)          0           model_5[1][0]                    \n",
      "                                                                 model_5[2][0]                    \n",
      "==================================================================================================\n",
      "Total params: 21,558,140\n",
      "Trainable params: 21,503,612\n",
      "Non-trainable params: 54,528\n",
      "__________________________________________________________________________________________________\n",
      "None\n"
     ]
    }
   ],
   "source": [
    "base_model = Xception(input_shape = (256, 256, 3), include_top = False, weights = 'imagenet')\n",
    "x = GlobalAveragePooling2D()(base_model.output)\n",
    "x = Dense(340, activation = 'softmax')(x)\n",
    "model = Model(inputs = base_model.input, outputs = x)\n",
    "gpu_model = multi_gpu_model(model, 2)\n",
    "print(gpu_model.summary())\n",
    "gpu_model.load_weights('xception_model256_cur.h5')"
   ]
  },
  {
   "cell_type": "code",
   "execution_count": null,
   "metadata": {},
   "outputs": [],
   "source": [
    "### Xception 256\n",
    "from keras.callbacks import CSVLogger\n",
    "\n",
    "EPOCHS = 100\n",
    "TOTAL_TRAIN = 2250000\n",
    "BATCH_SIZE = 32 * 2\n",
    "STEPS = TOTAL_TRAIN // BATCH_SIZE\n",
    "\n",
    "train_datagen = image_generator_xd(size=size, batchsize=BATCH_SIZE, ks=range(NCSVS - 1))\n",
    "valid_datagen = image_generator_xd(size=size, batchsize=BATCH_SIZE, ks=NCSVS - 1)\n",
    "\n",
    "def step_decay_exp(epoch):\n",
    "    initial_lrate = 0.00075\n",
    "    drop = 0.5 # drop by how much? 0.5 = half each time\n",
    "    epochs_drop = 7.0 # drop how many x epochs\n",
    "    lrate = initial_lrate * math.pow(drop, math.floor((1+epoch)/epochs_drop))\n",
    "    return max(1e-6, lrate)\n",
    "\n",
    "callbacks = [\n",
    "    ModelCheckpoint('xception_model256.h5', monitor = 'val_top_3_accuracy', mode = 'max', save_best_only = True, verbose = 1),\n",
    "    ModelCheckpoint('xception_model256_cur.h5', monitor = 'val_top_3_accuracy', mode = 'max', save_best_only = False, verbose = 0),\n",
    "    ReduceLROnPlateau(monitor='val_top_3_accuracy', factor=0.66, patience=3,\n",
    "                      min_lr = 0.000001, \n",
    "#                       min_delta=0.005, \n",
    "                      mode='max', \n",
    "                      cooldown=3, verbose=1),\n",
    "#     LearningRateScheduler(step_decay_exp),\n",
    "    CSVLogger('xception_log256.csv', append=True, separator=';')\n",
    "]\n",
    "\n",
    "# sgdOptimiser = SGD(lr = 0.001,  momentum=0.9, decay = 0.0001,  nesterov=True)\n",
    "\n",
    "gpu_model.compile(optimizer=Adam(lr=0.00015), loss='categorical_crossentropy',\n",
    "              metrics=[categorical_crossentropy, categorical_accuracy, top_3_accuracy])\n",
    "\n",
    "gpu_model.load_weights('xception_model256_cur.h5')\n",
    "\n",
    "gpu_model.fit_generator(\n",
    "    train_datagen, steps_per_epoch=STEPS, epochs=EPOCHS, verbose=1,\n",
    "    validation_data = valid_datagen, validation_steps = STEPS // 8,\n",
    "    callbacks = callbacks\n",
    ")\n"
   ]
  },
  {
   "cell_type": "code",
   "execution_count": 52,
   "metadata": {},
   "outputs": [
    {
     "name": "stderr",
     "output_type": "stream",
     "text": [
      "/home/wilan/.local/lib/python3.6/site-packages/ipykernel_launcher.py:228: SettingWithCopyWarning: \n",
      "A value is trying to be set on a copy of a slice from a DataFrame.\n",
      "Try using .loc[row_indexer,col_indexer] = value instead\n",
      "\n",
      "See the caveats in the documentation: http://pandas.pydata.org/pandas-docs/stable/indexing.html#indexing-view-versus-copy\n"
     ]
    },
    {
     "name": "stdout",
     "output_type": "stream",
     "text": [
      "5000/5000 [==============================] - 15s 3ms/step\n",
      "Pred shape: (5000, 340)\n"
     ]
    },
    {
     "data": {
      "text/plain": [
       "0"
      ]
     },
     "execution_count": 52,
     "metadata": {},
     "output_type": "execute_result"
    },
    {
     "name": "stdout",
     "output_type": "stream",
     "text": [
      "5000/5000 [==============================] - 13s 3ms/step\n",
      "Pred shape: (10000, 340)\n"
     ]
    },
    {
     "data": {
      "text/plain": [
       "0"
      ]
     },
     "execution_count": 52,
     "metadata": {},
     "output_type": "execute_result"
    },
    {
     "name": "stdout",
     "output_type": "stream",
     "text": [
      "5000/5000 [==============================] - 12s 2ms/step\n",
      "Pred shape: (15000, 340)\n"
     ]
    },
    {
     "data": {
      "text/plain": [
       "0"
      ]
     },
     "execution_count": 52,
     "metadata": {},
     "output_type": "execute_result"
    },
    {
     "name": "stdout",
     "output_type": "stream",
     "text": [
      "5000/5000 [==============================] - 12s 2ms/step\n",
      "Pred shape: (20000, 340)\n"
     ]
    },
    {
     "data": {
      "text/plain": [
       "0"
      ]
     },
     "execution_count": 52,
     "metadata": {},
     "output_type": "execute_result"
    },
    {
     "name": "stdout",
     "output_type": "stream",
     "text": [
      "5000/5000 [==============================] - 12s 2ms/step\n",
      "Pred shape: (25000, 340)\n"
     ]
    },
    {
     "data": {
      "text/plain": [
       "0"
      ]
     },
     "execution_count": 52,
     "metadata": {},
     "output_type": "execute_result"
    },
    {
     "name": "stdout",
     "output_type": "stream",
     "text": [
      "5000/5000 [==============================] - 12s 2ms/step\n",
      "Pred shape: (30000, 340)\n"
     ]
    },
    {
     "data": {
      "text/plain": [
       "0"
      ]
     },
     "execution_count": 52,
     "metadata": {},
     "output_type": "execute_result"
    },
    {
     "name": "stdout",
     "output_type": "stream",
     "text": [
      "5000/5000 [==============================] - 12s 2ms/step\n",
      "Pred shape: (35000, 340)\n"
     ]
    },
    {
     "data": {
      "text/plain": [
       "0"
      ]
     },
     "execution_count": 52,
     "metadata": {},
     "output_type": "execute_result"
    },
    {
     "name": "stdout",
     "output_type": "stream",
     "text": [
      "5000/5000 [==============================] - 13s 3ms/step\n",
      "Pred shape: (40000, 340)\n"
     ]
    },
    {
     "data": {
      "text/plain": [
       "0"
      ]
     },
     "execution_count": 52,
     "metadata": {},
     "output_type": "execute_result"
    },
    {
     "name": "stdout",
     "output_type": "stream",
     "text": [
      "5000/5000 [==============================] - 12s 2ms/step\n",
      "Pred shape: (45000, 340)\n"
     ]
    },
    {
     "data": {
      "text/plain": [
       "0"
      ]
     },
     "execution_count": 52,
     "metadata": {},
     "output_type": "execute_result"
    },
    {
     "name": "stdout",
     "output_type": "stream",
     "text": [
      "5000/5000 [==============================] - 12s 2ms/step\n",
      "Pred shape: (50000, 340)\n"
     ]
    },
    {
     "data": {
      "text/plain": [
       "0"
      ]
     },
     "execution_count": 52,
     "metadata": {},
     "output_type": "execute_result"
    },
    {
     "name": "stdout",
     "output_type": "stream",
     "text": [
      "5000/5000 [==============================] - 12s 2ms/step\n",
      "Pred shape: (55000, 340)\n"
     ]
    },
    {
     "data": {
      "text/plain": [
       "0"
      ]
     },
     "execution_count": 52,
     "metadata": {},
     "output_type": "execute_result"
    },
    {
     "name": "stdout",
     "output_type": "stream",
     "text": [
      "5000/5000 [==============================] - 12s 2ms/step\n",
      "Pred shape: (60000, 340)\n"
     ]
    },
    {
     "data": {
      "text/plain": [
       "0"
      ]
     },
     "execution_count": 52,
     "metadata": {},
     "output_type": "execute_result"
    },
    {
     "name": "stdout",
     "output_type": "stream",
     "text": [
      "5000/5000 [==============================] - 12s 2ms/step\n",
      "Pred shape: (65000, 340)\n"
     ]
    },
    {
     "data": {
      "text/plain": [
       "0"
      ]
     },
     "execution_count": 52,
     "metadata": {},
     "output_type": "execute_result"
    },
    {
     "name": "stdout",
     "output_type": "stream",
     "text": [
      "5000/5000 [==============================] - 12s 2ms/step\n",
      "Pred shape: (70000, 340)\n"
     ]
    },
    {
     "data": {
      "text/plain": [
       "0"
      ]
     },
     "execution_count": 52,
     "metadata": {},
     "output_type": "execute_result"
    },
    {
     "name": "stdout",
     "output_type": "stream",
     "text": [
      "5000/5000 [==============================] - 12s 2ms/step\n",
      "Pred shape: (75000, 340)\n"
     ]
    },
    {
     "data": {
      "text/plain": [
       "0"
      ]
     },
     "execution_count": 52,
     "metadata": {},
     "output_type": "execute_result"
    },
    {
     "name": "stdout",
     "output_type": "stream",
     "text": [
      "5000/5000 [==============================] - 12s 2ms/step\n",
      "Pred shape: (80000, 340)\n"
     ]
    },
    {
     "data": {
      "text/plain": [
       "0"
      ]
     },
     "execution_count": 52,
     "metadata": {},
     "output_type": "execute_result"
    },
    {
     "name": "stdout",
     "output_type": "stream",
     "text": [
      "5000/5000 [==============================] - 12s 2ms/step\n",
      "Pred shape: (85000, 340)\n"
     ]
    },
    {
     "data": {
      "text/plain": [
       "0"
      ]
     },
     "execution_count": 52,
     "metadata": {},
     "output_type": "execute_result"
    },
    {
     "name": "stdout",
     "output_type": "stream",
     "text": [
      "5000/5000 [==============================] - 12s 2ms/step\n",
      "Pred shape: (90000, 340)\n"
     ]
    },
    {
     "data": {
      "text/plain": [
       "0"
      ]
     },
     "execution_count": 52,
     "metadata": {},
     "output_type": "execute_result"
    },
    {
     "name": "stdout",
     "output_type": "stream",
     "text": [
      "5000/5000 [==============================] - 12s 2ms/step\n",
      "Pred shape: (95000, 340)\n"
     ]
    },
    {
     "data": {
      "text/plain": [
       "0"
      ]
     },
     "execution_count": 52,
     "metadata": {},
     "output_type": "execute_result"
    },
    {
     "name": "stdout",
     "output_type": "stream",
     "text": [
      "5000/5000 [==============================] - 12s 2ms/step\n",
      "Pred shape: (100000, 340)\n"
     ]
    },
    {
     "data": {
      "text/plain": [
       "0"
      ]
     },
     "execution_count": 52,
     "metadata": {},
     "output_type": "execute_result"
    },
    {
     "name": "stdout",
     "output_type": "stream",
     "text": [
      "5000/5000 [==============================] - 13s 3ms/step\n",
      "Pred shape: (105000, 340)\n"
     ]
    },
    {
     "data": {
      "text/plain": [
       "0"
      ]
     },
     "execution_count": 52,
     "metadata": {},
     "output_type": "execute_result"
    },
    {
     "name": "stdout",
     "output_type": "stream",
     "text": [
      "5000/5000 [==============================] - 12s 2ms/step\n",
      "Pred shape: (110000, 340)\n"
     ]
    },
    {
     "data": {
      "text/plain": [
       "0"
      ]
     },
     "execution_count": 52,
     "metadata": {},
     "output_type": "execute_result"
    },
    {
     "name": "stdout",
     "output_type": "stream",
     "text": [
      "2199/2199 [==============================] - 6s 3ms/step\n",
      "Pred shape: (112199, 340)\n"
     ]
    },
    {
     "data": {
      "text/plain": [
       "0"
      ]
     },
     "execution_count": 52,
     "metadata": {},
     "output_type": "execute_result"
    },
    {
     "name": "stdout",
     "output_type": "stream",
     "text": [
      "112199\n"
     ]
    }
   ],
   "source": [
    "test_batch_size = 5000\n",
    "test = pd.read_csv(os.path.join('test_simplified.csv'))\n",
    "\n",
    "num_batch = np.ceil(len(test)/test_batch_size)\n",
    "counter = 0\n",
    "nrows = 0\n",
    "pred_array = []\n",
    "\n",
    "while True:\n",
    "    batch_files = test[test_batch_size*counter:test_batch_size*(counter+1)]\n",
    "    \n",
    "    x_test = df_to_image_array_xd(batch_files, 256)\n",
    "    p_test = gpu_model.predict(x_test, batch_size=256, verbose=1)\n",
    "    \n",
    "    if counter == 0:\n",
    "        pred_array = p_test\n",
    "    else:\n",
    "        pred_array = np.concatenate((pred_array, p_test), axis = 0)\n",
    "    print('Pred shape: {}'.format(pred_array.shape))\n",
    "    \n",
    "    x_valid = []\n",
    "    gc.collect()\n",
    "    \n",
    "    counter += 1\n",
    "    nrows += len(batch_files)\n",
    "    if counter >= num_batch:\n",
    "            break\n",
    "\n",
    "print(nrows)"
   ]
  },
  {
   "cell_type": "code",
   "execution_count": 53,
   "metadata": {},
   "outputs": [
    {
     "data": {
      "text/html": [
       "<div>\n",
       "<style scoped>\n",
       "    .dataframe tbody tr th:only-of-type {\n",
       "        vertical-align: middle;\n",
       "    }\n",
       "\n",
       "    .dataframe tbody tr th {\n",
       "        vertical-align: top;\n",
       "    }\n",
       "\n",
       "    .dataframe thead th {\n",
       "        text-align: right;\n",
       "    }\n",
       "</style>\n",
       "<table border=\"1\" class=\"dataframe\">\n",
       "  <thead>\n",
       "    <tr style=\"text-align: right;\">\n",
       "      <th></th>\n",
       "      <th>key_id</th>\n",
       "      <th>countrycode</th>\n",
       "      <th>drawing</th>\n",
       "      <th>word</th>\n",
       "    </tr>\n",
       "  </thead>\n",
       "  <tbody>\n",
       "    <tr>\n",
       "      <th>0</th>\n",
       "      <td>9000003627287624</td>\n",
       "      <td>DE</td>\n",
       "      <td>[[[17, 18, 20, 25, 137, 174, 242, 249, 251, 25...</td>\n",
       "      <td>radio 0.9045055 stereo 0.09549432 binoculars 1...</td>\n",
       "    </tr>\n",
       "    <tr>\n",
       "      <th>1</th>\n",
       "      <td>9000010688666847</td>\n",
       "      <td>UA</td>\n",
       "      <td>[[[174, 145, 106, 38, 11, 4, 4, 15, 29, 78, 16...</td>\n",
       "      <td>hockey_puck 0.92658585 bottlecap 0.05971142 po...</td>\n",
       "    </tr>\n",
       "    <tr>\n",
       "      <th>2</th>\n",
       "      <td>9000023642890129</td>\n",
       "      <td>BG</td>\n",
       "      <td>[[[0, 12, 14, 17, 16, 24, 55, 57, 60, 79, 82, ...</td>\n",
       "      <td>The_Great_Wall_of_China 0.93313104 castle 0.06...</td>\n",
       "    </tr>\n",
       "    <tr>\n",
       "      <th>3</th>\n",
       "      <td>9000038588854897</td>\n",
       "      <td>US</td>\n",
       "      <td>[[[0, 9, 23, 40, 54, 60, 81, 105, 123, 167, 20...</td>\n",
       "      <td>mountain 0.9999871 crayon 4.4550693e-06 finger...</td>\n",
       "    </tr>\n",
       "    <tr>\n",
       "      <th>4</th>\n",
       "      <td>9000052667981386</td>\n",
       "      <td>AR</td>\n",
       "      <td>[[[87, 82, 71, 63, 66, 92, 96, 95], [220, 218,...</td>\n",
       "      <td>campfire 0.6797234 fireplace 0.31749898 fire_h...</td>\n",
       "    </tr>\n",
       "  </tbody>\n",
       "</table>\n",
       "</div>"
      ],
      "text/plain": [
       "             key_id countrycode  \\\n",
       "0  9000003627287624          DE   \n",
       "1  9000010688666847          UA   \n",
       "2  9000023642890129          BG   \n",
       "3  9000038588854897          US   \n",
       "4  9000052667981386          AR   \n",
       "\n",
       "                                             drawing  \\\n",
       "0  [[[17, 18, 20, 25, 137, 174, 242, 249, 251, 25...   \n",
       "1  [[[174, 145, 106, 38, 11, 4, 4, 15, 29, 78, 16...   \n",
       "2  [[[0, 12, 14, 17, 16, 24, 55, 57, 60, 79, 82, ...   \n",
       "3  [[[0, 9, 23, 40, 54, 60, 81, 105, 123, 167, 20...   \n",
       "4  [[[87, 82, 71, 63, 66, 92, 96, 95], [220, 218,...   \n",
       "\n",
       "                                                word  \n",
       "0  radio 0.9045055 stereo 0.09549432 binoculars 1...  \n",
       "1  hockey_puck 0.92658585 bottlecap 0.05971142 po...  \n",
       "2  The_Great_Wall_of_China 0.93313104 castle 0.06...  \n",
       "3  mountain 0.9999871 crayon 4.4550693e-06 finger...  \n",
       "4  campfire 0.6797234 fireplace 0.31749898 fire_h...  "
      ]
     },
     "execution_count": 53,
     "metadata": {},
     "output_type": "execute_result"
    }
   ],
   "source": [
    "x = preds2catids_pr(pred_array)\n",
    "x.head()\n",
    "\n",
    "# generate the top 5 pr CSV\n",
    "x[['key_id', 'word']].to_csv('xception256_top5_last.csv', index = False)"
   ]
  }
 ],
 "metadata": {
  "kernelspec": {
   "display_name": "Python 3",
   "language": "python",
   "name": "python3"
  },
  "language_info": {
   "codemirror_mode": {
    "name": "ipython",
    "version": 3
   },
   "file_extension": ".py",
   "mimetype": "text/x-python",
   "name": "python",
   "nbconvert_exporter": "python",
   "pygments_lexer": "ipython3",
   "version": "3.6.7"
  }
 },
 "nbformat": 4,
 "nbformat_minor": 2
}
